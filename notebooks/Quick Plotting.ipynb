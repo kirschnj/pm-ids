{
 "cells": [
  {
   "cell_type": "code",
   "execution_count": 1,
   "metadata": {},
   "outputs": [],
   "source": [
    "import numpy as np\n",
    "import matplotlib.pyplot as plt\n",
    "import glob\n",
    "import os"
   ]
  },
  {
   "cell_type": "code",
   "execution_count": 2,
   "metadata": {},
   "outputs": [],
   "source": [
    "# Plotting Helpers\n",
    "\n",
    "from __future__ import division, print_function, absolute_import\n",
    "\n",
    "import numpy as np\n",
    "from matplotlib.colors import ColorConverter\n",
    "from matplotlib import rcParams\n",
    "\n",
    "\n",
    "__author__ = 'Felix Berkenkamp / Johannes Kirschner'\n",
    "__all__ = ['set_figure_params', 'emulate_color', 'linewidth_in_data_units',\n",
    "           'adapt_figure_size_from_axes', 'cm2inches', 'hide_all_ticks',\n",
    "           'hide_spines', 'set_frame_properties']\n",
    "\n",
    "\n",
    "def emulate_color(color, alpha=1, background_color=(1, 1, 1)):\n",
    "    \"\"\"Take an RGBA color and an RGB background, return the emulated RGB color.\n",
    "    The RGBA color with transparency alpha is converted to an RGB color via\n",
    "    emulation in front of the background_color.\n",
    "    \"\"\"\n",
    "    to_rgb = ColorConverter().to_rgb\n",
    "    color = to_rgb(color)\n",
    "    background_color = to_rgb(background_color)\n",
    "    return [(1 - alpha) * bg_col + alpha * col\n",
    "            for col, bg_col in zip(color, background_color)]\n",
    "\n",
    "\n",
    "def cm2inches(centimeters):\n",
    "    \"\"\"Convert cm to inches\"\"\"\n",
    "    return centimeters / 2.54\n",
    "\n",
    "\n",
    "def set_figure_params(serif=True):\n",
    "    \"\"\"Define default values for font, fontsize and use latex\n",
    "    Parameters\n",
    "    ----------\n",
    "    serif: bool, optional\n",
    "        Whether to use a serif or sans-serif font\n",
    "    \"\"\"\n",
    "\n",
    "    params = {\n",
    "              'font.family': 'serif',\n",
    "              'font.serif': ['Times',\n",
    "                             'Palatino',\n",
    "                             'New Century Schoolbook',\n",
    "                             'Bookman',\n",
    "                             'Computer Modern Roman'],\n",
    "              'font.sans-serif': ['Times',\n",
    "                                  'Helvetica',\n",
    "                                  'Avant Garde',\n",
    "                                  'Computer Modern Sans serif'],\n",
    "              'text.usetex': True,\n",
    "              # Make sure mathcal doesn't use the Times style\n",
    "              'text.latex.preamble':\n",
    "              r'\\DeclareMathAlphabet{\\mathcal}{OMS}{cmsy}{m}{n}',\n",
    "\n",
    "              'axes.labelsize': 9,\n",
    "              'axes.linewidth': .75,\n",
    "\n",
    "              'font.size': 8,\n",
    "              'legend.fontsize': 8,\n",
    "              'xtick.labelsize': 8,\n",
    "              'ytick.labelsize': 8,\n",
    "\n",
    "              # 'figure.dpi': 150,\n",
    "              # 'savefig.dpi': 600,\n",
    "              # 'legend.numpoints': 1,\n",
    "              }\n",
    "\n",
    "    if not serif:\n",
    "        params['font.family'] = 'sans-serif'\n",
    "\n",
    "    rcParams.update(params)\n",
    "\n",
    "\n",
    "def hide_all_ticks(axis):\n",
    "    \"\"\"Hide all ticks on the axis.\n",
    "    Parameters\n",
    "    ----------\n",
    "    axis: matplotlib axis\n",
    "    \"\"\"\n",
    "    axis.tick_params(axis='both',        # changes apply to the x-axis\n",
    "                     which='both',       # affect both major and minor ticks\n",
    "                     bottom='off',       # ticks along the bottom edge are off\n",
    "                     top='off',          # ticks along the top edge are off\n",
    "                     left='off',         # No ticks left\n",
    "                     right='off',        # No ticks right\n",
    "                     labelbottom='off',  # No tick-label at bottom\n",
    "                     labelleft='off')    # No tick-label at bottom\n",
    "\n",
    "\n",
    "def hide_spines(*axes, top=True, right=True):\n",
    "    \n",
    "    for axis in axes:\n",
    "        \"\"\"Hide the top and right spine of the axis.\"\"\"\n",
    "        if top:\n",
    "            axis.spines['top'].set_visible(False)\n",
    "            axis.xaxis.set_ticks_position('bottom')\n",
    "        if right:\n",
    "            axis.spines['right'].set_visible(False)\n",
    "            axis.yaxis.set_ticks_position('left')\n",
    "\n",
    "\n",
    "def set_frame_properties(axis, color, lw):\n",
    "    \"\"\"Set color and linewidth of frame.\"\"\"\n",
    "    for spine in axis.spines.values():\n",
    "        spine.set_linewidth(lw)\n",
    "        spine.set_color(color)\n",
    "\n",
    "\n",
    "def linewidth_in_data_units(linewidth, axis, reference='y'):\n",
    "    \"\"\"\n",
    "    Convert a linewidth in data units to linewidth in points.\n",
    "    Parameters\n",
    "    ----------\n",
    "    linewidth: float\n",
    "        Linewidth in data units of the respective reference-axis\n",
    "    axis: matplotlib axis\n",
    "        The axis which is used to extract the relevant transformation\n",
    "        data (data limits and size must not change afterwards)\n",
    "    reference: string\n",
    "        The axis that is taken as a reference for the data width.\n",
    "        Possible values: 'x' and 'y'. Defaults to 'y'.\n",
    "    Returns\n",
    "    -------\n",
    "    linewidth: float\n",
    "        Linewidth in points\n",
    "    \"\"\"\n",
    "    fig = axis.get_figure()\n",
    "\n",
    "    if reference == 'x':\n",
    "        # width of the axis in inches\n",
    "        axis_length = fig.get_figwidth() * axis.get_position().width\n",
    "        value_range = np.diff(axis.get_xlim())\n",
    "    elif reference == 'y':\n",
    "        axis_length = fig.get_figheight() * axis.get_position().height\n",
    "        value_range = np.diff(axis.get_ylim())\n",
    "\n",
    "    # Convert axis_length from inches to points\n",
    "    axis_length *= 72\n",
    "\n",
    "    return (linewidth / value_range) * axis_length\n",
    "\n",
    "\n",
    "def adapt_figure_size_from_axes(axes):\n",
    "    \"\"\"\n",
    "    Adapt the figure sizes so that all axes are equally wide/high.\n",
    "    When putting multiple figures next to each other in Latex, some\n",
    "    figures will have axis labels, while others do not. As a result,\n",
    "    having the same figure width for all figures looks really strange.\n",
    "    This script adapts the figure sizes post-plotting, so that all the axes\n",
    "    have the same width and height.\n",
    "    Be sure to call plt.tight_layout() again after this operation!\n",
    "    This doesn't work if you have multiple axis on one figure and want them\n",
    "    all to scale proportionally, but should be an easy extension.\n",
    "    Parameters\n",
    "    ----------\n",
    "    axes: list\n",
    "        List of axes that we want to have the same size (need to be\n",
    "        on different figures)\n",
    "    \"\"\"\n",
    "    # Get parent figures\n",
    "    figures = [axis.get_figure() for axis in axes]\n",
    "\n",
    "    # get axis sizes [0, 1] and figure sizes [inches]\n",
    "    axis_sizes = np.array([axis.get_position().size for axis in axes])\n",
    "    figure_sizes = np.array([figure.get_size_inches() for figure in figures])\n",
    "\n",
    "    # Compute average axis size [inches]\n",
    "    avg_axis_size = np.average(axis_sizes * figure_sizes, axis=0)\n",
    "\n",
    "    # New figure size is the average axis size plus the white space that is\n",
    "    # not begin used by the axis so far (e.g., the space used by labels)\n",
    "    new_figure_sizes = (1 - axis_sizes) * figure_sizes + avg_axis_size\n",
    "\n",
    "    # Set new figure sizes\n",
    "    for figure, size in zip(figures, new_figure_sizes):\n",
    "        figure.set_size_inches(size)\n",
    "        \n",
    "def plot_errorbars(axis, x, y, err, num=10, sigma=2, **kwargs):\n",
    "    T = len(y)\n",
    "    axis.errorbar(x[T//(2*num):], y[T//(2*num):], sigma*err[T//(2*num):], \n",
    "                  ecolor=emulate_color('black', alpha=0.6),\n",
    "                     capsize=2,\n",
    "                     capthick=0.3,\n",
    "                     elinewidth=0.3,\n",
    "                     linewidth=0.6,\n",
    "                     fmt=\"none\",\n",
    "                     errorevery=T//num,\n",
    "                     **kwargs)"
   ]
  },
  {
   "cell_type": "code",
   "execution_count": 3,
   "metadata": {},
   "outputs": [
    {
     "data": {
      "image/png": "[encoded data removed]",
      "text/plain": [
       "<Figure size 720x72 with 1 Axes>"
      ]
     },
     "metadata": {
      "needs_background": "light"
     },
     "output_type": "display_data"
    }
   ],
   "source": [
    "# define tableau colors:\n",
    "tableau20 = [(31, 119, 180), (174, 199, 232), (255, 127, 14), (255, 187, 120),  \n",
    "             (44, 160, 44), (152, 223, 138), (214, 39, 40), (255, 152, 150),  \n",
    "             (148, 103, 189), (197, 176, 213), (140, 86, 75), (196, 156, 148),  \n",
    "             (227, 119, 194), (247, 182, 210), (127, 127, 127), (199, 199, 199),  \n",
    "(188, 189, 34), (219, 219, 141), (23, 190, 207), (158, 218, 229)]\n",
    "\n",
    "for i in range(len(tableau20)):  \n",
    "    r, g, b = tableau20[i]  \n",
    "    tableau20[i] = (r / 255., g / 255., b / 255.)\n",
    "\n",
    "plt.figure(figsize=(10,1))\n",
    "for i,c in enumerate(tableau20):\n",
    "    plt.bar(i,1, color=c)\n",
    "\n",
    "    \n",
    "plt.xticks([*range(20)])\n",
    "plt.show()"
   ]
  },
  {
   "cell_type": "code",
   "execution_count": 4,
   "metadata": {},
   "outputs": [],
   "source": [
    "# data base directory\n",
    "basedir = os.path.join(os.getcwd(), '../pm-runs/')\n",
    "plotdir = os.path.join(os.getcwd(), '../plots/')\n",
    "\n",
    "\n",
    "TEXTWIDTH = 15.23782  # width from latex paper\n",
    "\n",
    "# labels and colors\n",
    "LABELS = {\n",
    "    'ids-full' : 'IDS',\n",
    "    'ucb' : 'LinUCB',\n",
    "    'ucb-s2' : 'UCB-log(s2)',\n",
    "    'ids-directed2' :'IDS-direct',\n",
    "    'asymptotic_ids' : 'Asymptotic IDS',\n",
    "    'asymptotic_ids2' : 'Asymptotic IDS',\n",
    "    'Solid': 'Solid'\n",
    "\n",
    "}\n",
    "COLORS = {\n",
    "    'ids-full' : tableau20[0],\n",
    "    'ucb' : tableau20[2],\n",
    "    'ucb-s2' : tableau20[3],\n",
    "    'ids-directed2' : tableau20[4],\n",
    "    'ids-info_game' : tableau20[6],\n",
    "    'asymptotic_ids' : tableau20[8],\n",
    "    'asymptotic_ids2' : tableau20[9],\n",
    "    'Solid' : tableau20[10]\n",
    "\n",
    "}"
   ]
  },
  {
   "cell_type": "code",
   "execution_count": 5,
   "metadata": {},
   "outputs": [],
   "source": [
    "def load_regret_data(env_path):\n",
    "    \"\"\" helper function to load aggregated data \"\"\"\n",
    "    data = dict()\n",
    "    \n",
    "    for path in glob.iglob(os.path.join(basedir, env_path, '*/'), recursive=False):\n",
    "        strategy = path.rsplit(os.sep, maxsplit=2)[1]\n",
    "        strategy_dict = dict()\n",
    "        \n",
    "        # get all files that where created for regret aggregation, there might be multiple\n",
    "        aggr_regret_files = [os.path.split(f)[1] for f in glob.iglob(path + 'aggr-regret-*.csv')]\n",
    "        \n",
    "        if len(aggr_regret_files) == 0:\n",
    "            continue\n",
    "        \n",
    "        # split of merge count from file name\n",
    "        aggr_regret_count = [int(f[:-4].rsplit('-', maxsplit=1)[1]) for f in aggr_regret_files]\n",
    "\n",
    "        # target file is the aggregation file based on the most runs\n",
    "        aggr_regret_file = aggr_regret_files[np.argmax(aggr_regret_count)]\n",
    "        aggr_count = np.max(aggr_regret_count)\n",
    "        \n",
    "        print(f\"Reading {path[len(basedir):]}{aggr_regret_file} with {aggr_count} runs.\")\n",
    "        \n",
    "        # store data\n",
    "        strategy_dict['regret'] = np.loadtxt(os.path.join(path, aggr_regret_file))\n",
    "        strategy_dict['repetitions'] = aggr_count\n",
    "        \n",
    "        data[strategy] = strategy_dict\n",
    "        \n",
    "    return data"
   ]
  },
  {
   "cell_type": "code",
   "execution_count": 6,
   "metadata": {},
   "outputs": [],
   "source": [
    "def plot_regret(data, axis, strategies=None, n=None):\n",
    "    if strategies is None:\n",
    "        strategies = data.keys()\n",
    "    for strategy in strategies:\n",
    "        strategy_data = data[strategy]\n",
    "        regret = strategy_data['regret']\n",
    "        if n is None:\n",
    "           n = len(regret)\n",
    "        x=np.arange(n)\n",
    "        rep = strategy_data['repetitions']\n",
    "        axis.plot(x, regret[:n, 0], label=LABELS[strategy], color=COLORS[strategy], linewidth=1)\n",
    "        plot_errorbars(axis, x, regret[:n, 0], regret[:n, 1]/np.sqrt(rep), num=10, sigma=2)\n",
    "        \n",
    "#         axis.errorbar(np.arange(n), regret[:, 1]/np.sqrt(strategy_data['repetitions']))"
   ]
  },
  {
   "cell_type": "code",
   "execution_count": 35,
   "metadata": {},
   "outputs": [
    {
     "name": "stdout",
     "output_type": "stream",
     "text": [
      "Reading simple_bandit-10000/ucb/aggr-regret-20.csv with 20 runs.\n",
      "Reading simple_bandit-10000/Solid/aggr-regret-21.csv with 21 runs.\n",
      "Reading simple_bandit-10000/ids-full/aggr-regret-20.csv with 20 runs.\n",
      "Reading simple_bandit-9000/ucb/aggr-regret-20.csv with 20 runs.\n",
      "Reading simple_bandit-9000/Solid/aggr-regret-20.csv with 20 runs.\n",
      "Reading simple_bandit-9000/asymptotic_ids/aggr-regret-20.csv with 20 runs.\n",
      "Reading simple_bandit-9000/ids-full/aggr-regret-20.csv with 20 runs.\n",
      "Reading counter_example-5000/ucb/aggr-regret-20.csv with 20 runs.\n",
      "Reading counter_example-5000/Solid/aggr-regret-20.csv with 20 runs.\n",
      "Reading counter_example-5000/asymptotic_ids/aggr-regret-20.csv with 20 runs.\n",
      "Reading counter_example-5000/ids-full/aggr-regret-20.csv with 20 runs.\n"
     ]
    }
   ],
   "source": [
    "simple_bandit_10K = load_regret_data('simple_bandit-10000')\n",
    "simple_bandit_9K = load_regret_data('simple_bandit-9000')\n",
    "counter_example = load_regret_data('counter_example-5000')"
   ]
  },
  {
   "cell_type": "code",
   "execution_count": 36,
   "metadata": {},
   "outputs": [
    {
     "data": {
      "text/plain": [
       "dict_keys(['Solid'])"
      ]
     },
     "execution_count": 36,
     "metadata": {},
     "output_type": "execute_result"
    }
   ],
   "source": [
    "simple_bandit.keys()"
   ]
  },
  {
   "cell_type": "code",
   "execution_count": 38,
   "metadata": {},
   "outputs": [
    {
     "data": {
      "image/png": "[encoded data removed]",
      "text/plain": [
       "<Figure size 864x288 with 3 Axes>"
      ]
     },
     "metadata": {
      "needs_background": "light"
     },
     "output_type": "display_data"
    }
   ],
   "source": [
    "fig, axis = plt.subplots(ncols=3, figsize=(12,4))\n",
    "plot_regret(simple_bandit_10K, axis[0])\n",
    "axis[0].legend()\n",
    "\n",
    "plot_regret(simple_bandit_9K, axis[1])\n",
    "# plt.xscale('log')\n",
    "\n",
    "plot_regret(counter_example, axis[2])\n",
    "axis[2].legend()\n",
    "\n",
    "\n",
    "\n",
    "fig.suptitle('Left 2 Simple_bandit: runs on two different horizons, averaged over 10 games. Right Counter_example')\n",
    "fig.savefig(os.path.join('', 'simple_bandit_and_counter_example.pdf'))\n"
   ]
  },
  {
   "cell_type": "code",
   "execution_count": 23,
   "metadata": {},
   "outputs": [
    {
     "ename": "AttributeError",
     "evalue": "'Figure' object has no attribute 'plot'",
     "output_type": "error",
     "traceback": [
      "\u001b[0;31m---------------------------------------------------------------------------\u001b[0m",
      "\u001b[0;31mAttributeError\u001b[0m                            Traceback (most recent call last)",
      "\u001b[0;32m<ipython-input-23-b361666e295a>\u001b[0m in \u001b[0;36m<module>\u001b[0;34m\u001b[0m\n\u001b[1;32m      1\u001b[0m \u001b[0max\u001b[0m \u001b[0;34m=\u001b[0m \u001b[0mplt\u001b[0m\u001b[0;34m.\u001b[0m\u001b[0mfigure\u001b[0m\u001b[0;34m(\u001b[0m\u001b[0;34m)\u001b[0m\u001b[0;34m\u001b[0m\u001b[0;34m\u001b[0m\u001b[0m\n\u001b[0;32m----> 2\u001b[0;31m \u001b[0mplot_regret\u001b[0m\u001b[0;34m(\u001b[0m\u001b[0msimple_bandit\u001b[0m\u001b[0;34m,\u001b[0m \u001b[0max\u001b[0m\u001b[0;34m)\u001b[0m\u001b[0;34m\u001b[0m\u001b[0;34m\u001b[0m\u001b[0m\n\u001b[0m",
      "\u001b[0;32m<ipython-input-15-a67e53afc271>\u001b[0m in \u001b[0;36mplot_regret\u001b[0;34m(data, axis, strategies, n)\u001b[0m\n\u001b[1;32m      9\u001b[0m         \u001b[0mx\u001b[0m\u001b[0;34m=\u001b[0m\u001b[0mnp\u001b[0m\u001b[0;34m.\u001b[0m\u001b[0marange\u001b[0m\u001b[0;34m(\u001b[0m\u001b[0mn\u001b[0m\u001b[0;34m)\u001b[0m\u001b[0;34m\u001b[0m\u001b[0;34m\u001b[0m\u001b[0m\n\u001b[1;32m     10\u001b[0m         \u001b[0mrep\u001b[0m \u001b[0;34m=\u001b[0m \u001b[0mstrategy_data\u001b[0m\u001b[0;34m[\u001b[0m\u001b[0;34m'repetitions'\u001b[0m\u001b[0;34m]\u001b[0m\u001b[0;34m\u001b[0m\u001b[0;34m\u001b[0m\u001b[0m\n\u001b[0;32m---> 11\u001b[0;31m         \u001b[0maxis\u001b[0m\u001b[0;34m.\u001b[0m\u001b[0mplot\u001b[0m\u001b[0;34m(\u001b[0m\u001b[0mx\u001b[0m\u001b[0;34m,\u001b[0m \u001b[0mregret\u001b[0m\u001b[0;34m[\u001b[0m\u001b[0;34m:\u001b[0m\u001b[0mn\u001b[0m\u001b[0;34m,\u001b[0m \u001b[0;36m0\u001b[0m\u001b[0;34m]\u001b[0m\u001b[0;34m,\u001b[0m \u001b[0mlabel\u001b[0m\u001b[0;34m=\u001b[0m\u001b[0mLABELS\u001b[0m\u001b[0;34m[\u001b[0m\u001b[0mstrategy\u001b[0m\u001b[0;34m]\u001b[0m\u001b[0;34m,\u001b[0m \u001b[0mcolor\u001b[0m\u001b[0;34m=\u001b[0m\u001b[0mCOLORS\u001b[0m\u001b[0;34m[\u001b[0m\u001b[0mstrategy\u001b[0m\u001b[0;34m]\u001b[0m\u001b[0;34m,\u001b[0m \u001b[0mlinewidth\u001b[0m\u001b[0;34m=\u001b[0m\u001b[0;36m1\u001b[0m\u001b[0;34m)\u001b[0m\u001b[0;34m\u001b[0m\u001b[0;34m\u001b[0m\u001b[0m\n\u001b[0m\u001b[1;32m     12\u001b[0m         \u001b[0mplot_errorbars\u001b[0m\u001b[0;34m(\u001b[0m\u001b[0maxis\u001b[0m\u001b[0;34m,\u001b[0m \u001b[0mx\u001b[0m\u001b[0;34m,\u001b[0m \u001b[0mregret\u001b[0m\u001b[0;34m[\u001b[0m\u001b[0;34m:\u001b[0m\u001b[0mn\u001b[0m\u001b[0;34m,\u001b[0m \u001b[0;36m0\u001b[0m\u001b[0;34m]\u001b[0m\u001b[0;34m,\u001b[0m \u001b[0mregret\u001b[0m\u001b[0;34m[\u001b[0m\u001b[0;34m:\u001b[0m\u001b[0mn\u001b[0m\u001b[0;34m,\u001b[0m \u001b[0;36m1\u001b[0m\u001b[0;34m]\u001b[0m\u001b[0;34m/\u001b[0m\u001b[0mnp\u001b[0m\u001b[0;34m.\u001b[0m\u001b[0msqrt\u001b[0m\u001b[0;34m(\u001b[0m\u001b[0mrep\u001b[0m\u001b[0;34m)\u001b[0m\u001b[0;34m,\u001b[0m \u001b[0mnum\u001b[0m\u001b[0;34m=\u001b[0m\u001b[0;36m10\u001b[0m\u001b[0;34m,\u001b[0m \u001b[0msigma\u001b[0m\u001b[0;34m=\u001b[0m\u001b[0;36m2\u001b[0m\u001b[0;34m)\u001b[0m\u001b[0;34m\u001b[0m\u001b[0;34m\u001b[0m\u001b[0m\n\u001b[1;32m     13\u001b[0m \u001b[0;34m\u001b[0m\u001b[0m\n",
      "\u001b[0;31mAttributeError\u001b[0m: 'Figure' object has no attribute 'plot'"
     ]
    },
    {
     "data": {
      "text/plain": [
       "<Figure size 432x288 with 0 Axes>"
      ]
     },
     "metadata": {},
     "output_type": "display_data"
    }
   ],
   "source": [
    "ax = plt.figure()\n",
    "plot_regret(simple_bandit, ax)"
   ]
  },
  {
   "cell_type": "code",
   "execution_count": null,
   "metadata": {},
   "outputs": [],
   "source": []
  }
 ],
 "metadata": {
  "kernelspec": {
   "display_name": "Python 3",
   "language": "python",
   "name": "python3"
  },
  "language_info": {
   "codemirror_mode": {
    "name": "ipython",
    "version": 3
   },
   "file_extension": ".py",
   "mimetype": "text/x-python",
   "name": "python",
   "nbconvert_exporter": "python",
   "pygments_lexer": "ipython3",
   "version": "3.8.2"
  }
 },
 "nbformat": 4,
 "nbformat_minor": 2
}
