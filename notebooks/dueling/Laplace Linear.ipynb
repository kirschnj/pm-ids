{
 "cells": [
  {
   "cell_type": "code",
   "execution_count": 112,
   "metadata": {},
   "outputs": [],
   "source": [
    "import numpy as np\n",
    "from scipy.stats import multivariate_normal\n",
    "from scipy.linalg import cho_factor\n",
    "\n",
    "import matplotlib.pyplot as plt"
   ]
  },
  {
   "cell_type": "code",
   "execution_count": 3,
   "metadata": {},
   "outputs": [
    {
     "name": "stdout",
     "output_type": "stream",
     "text": [
      "[0.52688869 0.84993429]\n"
     ]
    },
    {
     "data": {
      "text/plain": [
       "0.0"
      ]
     },
     "execution_count": 3,
     "metadata": {},
     "output_type": "execute_result"
    }
   ],
   "source": [
    "d = 2\n",
    "\n",
    "factor = 10\n",
    "np.random.seed(5)\n",
    "e1 = np.zeros(d)\n",
    "e1[0] = 1\n",
    "\n",
    "X = np.random.normal(size=d*5).reshape(5,d)\n",
    "V = factor*X.T.dot(X)\n",
    "\n",
    "while True:\n",
    "    theta = np.random.normal(size=d)\n",
    "    theta /= np.linalg.norm(theta)\n",
    "    if np.inner(theta, e1) > 0:\n",
    "        break\n",
    "print(theta)\n",
    "\n",
    "e1_inv = np.linalg.solve(V, e1)\n",
    "e1_norm = np.sqrt(np.inner(e1, e1_inv))\n",
    "\n",
    "nu = theta - np.inner(e1, theta) / e1_norm**2 * e1_inv\n",
    "nu_norm_sqr = np.inner(nu-theta, V.dot(nu - theta))\n",
    "covar  = np.linalg.inv(V)\n",
    "np.inner(e1,nu)"
   ]
  },
  {
   "cell_type": "code",
   "execution_count": 267,
   "metadata": {
    "scrolled": true
   },
   "outputs": [
    {
     "data": {
      "text/plain": [
       "5.299999999999999e-06"
      ]
     },
     "execution_count": 267,
     "metadata": {},
     "output_type": "execute_result"
    }
   ],
   "source": [
    "\n",
    "np.random.seed()\n",
    "outer = 10\n",
    "p_total = 0\n",
    "n_samples = 10000000\n",
    "\n",
    "for i in range(outer):\n",
    "    samples = np.random.multivariate_normal(theta, covar, size=n_samples)\n",
    "    p_sample = np.sum(samples.dot(e1) < 0)/n_samples\n",
    "    p_total += p_sample\n",
    "p_sample = p_total / outer\n",
    "p_sample"
   ]
  },
  {
   "cell_type": "code",
   "execution_count": 268,
   "metadata": {},
   "outputs": [
    {
     "data": {
      "text/plain": [
       "7.1081721145456606e-06"
      ]
     },
     "execution_count": 268,
     "metadata": {},
     "output_type": "execute_result"
    }
   ],
   "source": [
    "# p_laplace = np.exp(-1/2 *nu_norm_sqr)/multivariate_normal.pdf(np.zeros(d), cov=covar)\n",
    "\n",
    "N = multivariate_normal.pdf(np.zeros(d), cov=covar)\n",
    "\n",
    "p_laplace =  multivariate_normal.pdf(nu, theta, cov=covar)/N/np.sqrt(nu_norm_sqr)/2\n",
    "p_laplace"
   ]
  },
  {
   "cell_type": "code",
   "execution_count": 13,
   "metadata": {},
   "outputs": [
    {
     "data": {
      "text/plain": [
       "7.442860862224814"
      ]
     },
     "execution_count": 13,
     "metadata": {},
     "output_type": "execute_result"
    }
   ],
   "source": [
    "N = multivariate_normal.pdf(np.zeros(d), cov=covar)\n",
    "N\n",
    "\n",
    "N1 =(2*np.pi)**(-d/2)*np.prod(np.diag(cho_factor(V)[0]))\n",
    "N1"
   ]
  },
  {
   "cell_type": "code",
   "execution_count": 269,
   "metadata": {},
   "outputs": [
    {
     "data": {
      "text/plain": [
       "-1.8081721145456613e-06"
      ]
     },
     "execution_count": 269,
     "metadata": {},
     "output_type": "execute_result"
    }
   ],
   "source": [
    "p_sample - p_laplace"
   ]
  },
  {
   "cell_type": "code",
   "execution_count": 262,
   "metadata": {},
   "outputs": [
    {
     "data": {
      "text/plain": [
       "0.738027936856371"
      ]
     },
     "execution_count": 262,
     "metadata": {},
     "output_type": "execute_result"
    }
   ],
   "source": [
    "p_sample/p_laplace"
   ]
  },
  {
   "cell_type": "code",
   "execution_count": null,
   "metadata": {},
   "outputs": [],
   "source": []
  },
  {
   "cell_type": "code",
   "execution_count": null,
   "metadata": {},
   "outputs": [],
   "source": []
  },
  {
   "cell_type": "code",
   "execution_count": 207,
   "metadata": {},
   "outputs": [],
   "source": [
    "from scipy.linalg import cho_factor, solve_triangular\n",
    "d = 2\n",
    "L, _ = cho_factor(V)\n",
    "s = 100\n",
    "theta_unit = np.random.multivariate_normal(np.zeros(d), np.eye(d), size=s)"
   ]
  },
  {
   "cell_type": "code",
   "execution_count": 208,
   "metadata": {},
   "outputs": [],
   "source": [
    "samples = solve_triangular(L, theta_unit.T).T + theta"
   ]
  },
  {
   "cell_type": "code",
   "execution_count": 211,
   "metadata": {},
   "outputs": [
    {
     "data": {
      "text/plain": [
       "array([91.,  0.,  0.,  9.,  0.])"
      ]
     },
     "execution_count": 211,
     "metadata": {},
     "output_type": "execute_result"
    }
   ],
   "source": [
    "amax = np.argmax(X.dot(samples.T), axis=0)\n",
    "Z = np.zeros((s, len(X)))\n",
    "# Z[np.vstack((np.arange(s), amax))] = 1\n",
    "Z[np.arange(s), amax]  =1\n",
    "np.sum(Z,axis=0)"
   ]
  },
  {
   "cell_type": "code",
   "execution_count": 124,
   "metadata": {},
   "outputs": [
    {
     "data": {
      "text/plain": [
       "array([[ 1.74945474, -0.286073  ],\n",
       "       [-0.48456513, -2.65331856],\n",
       "       [-0.00828463, -0.31963136],\n",
       "       [-0.53662936,  0.31540267],\n",
       "       [ 0.42105072, -1.06560298]])"
      ]
     },
     "execution_count": 124,
     "metadata": {},
     "output_type": "execute_result"
    }
   ],
   "source": [
    "X"
   ]
  },
  {
   "cell_type": "code",
   "execution_count": 138,
   "metadata": {},
   "outputs": [],
   "source": [
    "d= 4\n",
    "n = 200\n",
    "M = np.random.normal(size=d*n).reshape(n,d)"
   ]
  },
  {
   "cell_type": "code",
   "execution_count": 139,
   "metadata": {},
   "outputs": [],
   "source": []
  },
  {
   "cell_type": "code",
   "execution_count": null,
   "metadata": {},
   "outputs": [],
   "source": []
  },
  {
   "cell_type": "code",
   "execution_count": 313,
   "metadata": {},
   "outputs": [
    {
     "name": "stdout",
     "output_type": "stream",
     "text": [
      "467\n",
      "3962.2426725493665\n",
      "[0.         0.15716212 1.01716509 1.64968316 1.06927308] [0.00000000e+00 4.38953686e-05 7.77066644e-05 2.14284391e-05\n",
      " 1.09351848e-04]\n",
      "nan\n"
     ]
    },
    {
     "name": "stderr",
     "output_type": "stream",
     "text": [
      "/home/johannes/miniconda3/envs/default/lib/python3.6/site-packages/ipykernel_launcher.py:9: RuntimeWarning: divide by zero encountered in log\n",
      "  if __name__ == '__main__':\n",
      "/home/johannes/miniconda3/envs/default/lib/python3.6/site-packages/ipykernel_launcher.py:9: RuntimeWarning: invalid value encountered in multiply\n",
      "  if __name__ == '__main__':\n"
     ]
    },
    {
     "data": {
      "image/png": "[encoded data removed]",
      "text/plain": [
       "<Figure size 432x288 with 1 Axes>"
      ]
     },
     "metadata": {
      "needs_background": "light"
     },
     "output_type": "display_data"
    }
   ],
   "source": [
    "seed = np.random.randint(1000)\n",
    "# seed = 39\n",
    "np.random.seed(seed)\n",
    "print(seed)\n",
    "d=5\n",
    "\n",
    "\n",
    "def entropy(q):\n",
    "    return - np.sum(q * np.log(q))\n",
    "\n",
    "norm = np.abs(np.random.normal(size=d))\n",
    "diff = 0.0001*np.abs(np.random.normal(size=d))\n",
    "norm[0] = 0\n",
    "diff[0] = 0\n",
    "\n",
    "def approx(n):\n",
    "    q = np.exp(-1/2 * n*norm)\n",
    "    qa = np.exp(-1/2* (n*norm + diff))\n",
    "\n",
    "#     q[0] = 0\n",
    "#     qa[0] = 0\n",
    "#     q[0] = 1 - np.sum(q)\n",
    "#     qa[0] = 1 - np.sum(qa)\n",
    "\n",
    "    MI = entropy(q) - entropy(qa)\n",
    "    \n",
    "\n",
    "    MI2 =  np.inner(q[1:], diff[1:])*np.log((1 - np.sum(q[1:]))/np.sum(q[1:]))/2\n",
    "    return MI, MI2\n",
    "\n",
    "MI = []\n",
    "MI2 = []\n",
    "for n in range(50,2000):\n",
    "    mi, mi2 = approx(n)\n",
    "    MI.append(mi/mi2)\n",
    "#     MI2.append(mi2)\n",
    "\n",
    "plt.plot(MI)\n",
    "plt.plot(MI2)\n",
    "plt.axhline(1)\n",
    "print(1/np.sum(diff))\n",
    "print(norm, diff)\n",
    "# plt.yscale('log')\n",
    "print(mi/mi2)"
   ]
  },
  {
   "cell_type": "raw",
   "metadata": {},
   "source": []
  },
  {
   "cell_type": "code",
   "execution_count": 345,
   "metadata": {},
   "outputs": [],
   "source": [
    "import pandas as pd\n",
    "d = {\n",
    "    'a': (1, 101),\n",
    "    'b': (2, 202),\n",
    "    'c': np.array([[1,2,3], [3,4,5]])\n",
    "}"
   ]
  },
  {
   "cell_type": "code",
   "execution_count": 346,
   "metadata": {},
   "outputs": [
    {
     "name": "stdout",
     "output_type": "stream",
     "text": [
      "a,b,c\n",
      "1,2,3\n",
      "101,202,303\n",
      "\n"
     ]
    }
   ],
   "source": [
    "print(df.to_csv(index=False))"
   ]
  },
  {
   "cell_type": "code",
   "execution_count": 347,
   "metadata": {},
   "outputs": [],
   "source": [
    "def flatten_data_dict(data):\n",
    "    keys = [*data.keys()]\n",
    "    for key in keys:\n",
    "        items = data[key]\n",
    "\n",
    "        if isinstance(items[0], np.ndarray) and items[0].ndim == 1:\n",
    "            items = np.array(items)\n",
    "            for i, col in enumerate(items.T):\n",
    "                data[f'{key}_{i}'] = col\n",
    "            del data[key]"
   ]
  },
  {
   "cell_type": "code",
   "execution_count": 348,
   "metadata": {},
   "outputs": [],
   "source": [
    "flatten_data_dict(d)"
   ]
  },
  {
   "cell_type": "code",
   "execution_count": 349,
   "metadata": {},
   "outputs": [
    {
     "data": {
      "text/plain": [
       "{'a': (1, 101),\n",
       " 'b': (2, 202),\n",
       " 'c_0': array([1, 3]),\n",
       " 'c_1': array([2, 4]),\n",
       " 'c_2': array([3, 5])}"
      ]
     },
     "execution_count": 349,
     "metadata": {},
     "output_type": "execute_result"
    }
   ],
   "source": [
    "d"
   ]
  },
  {
   "cell_type": "code",
   "execution_count": 350,
   "metadata": {},
   "outputs": [],
   "source": [
    "df = pd.DataFrame.from_dict(d, orient='columns')"
   ]
  },
  {
   "cell_type": "code",
   "execution_count": 351,
   "metadata": {},
   "outputs": [
    {
     "data": {
      "text/html": [
       "<div>\n",
       "<style scoped>\n",
       "    .dataframe tbody tr th:only-of-type {\n",
       "        vertical-align: middle;\n",
       "    }\n",
       "\n",
       "    .dataframe tbody tr th {\n",
       "        vertical-align: top;\n",
       "    }\n",
       "\n",
       "    .dataframe thead th {\n",
       "        text-align: right;\n",
       "    }\n",
       "</style>\n",
       "<table border=\"1\" class=\"dataframe\">\n",
       "  <thead>\n",
       "    <tr style=\"text-align: right;\">\n",
       "      <th></th>\n",
       "      <th>a</th>\n",
       "      <th>b</th>\n",
       "      <th>c_0</th>\n",
       "      <th>c_1</th>\n",
       "      <th>c_2</th>\n",
       "    </tr>\n",
       "  </thead>\n",
       "  <tbody>\n",
       "    <tr>\n",
       "      <th>0</th>\n",
       "      <td>1</td>\n",
       "      <td>2</td>\n",
       "      <td>1</td>\n",
       "      <td>2</td>\n",
       "      <td>3</td>\n",
       "    </tr>\n",
       "    <tr>\n",
       "      <th>1</th>\n",
       "      <td>101</td>\n",
       "      <td>202</td>\n",
       "      <td>3</td>\n",
       "      <td>4</td>\n",
       "      <td>5</td>\n",
       "    </tr>\n",
       "  </tbody>\n",
       "</table>\n",
       "</div>"
      ],
      "text/plain": [
       "     a    b  c_0  c_1  c_2\n",
       "0    1    2    1    2    3\n",
       "1  101  202    3    4    5"
      ]
     },
     "execution_count": 351,
     "metadata": {},
     "output_type": "execute_result"
    }
   ],
   "source": [
    "df"
   ]
  },
  {
   "cell_type": "code",
   "execution_count": 352,
   "metadata": {},
   "outputs": [
    {
     "data": {
      "text/plain": [
       "array([[ 0.,  0.,  0.],\n",
       "       [ 1.,  1.,  1.],\n",
       "       [ 2.,  2.,  2.],\n",
       "       [ 3.,  3.,  3.],\n",
       "       [ 4.,  4.,  4.],\n",
       "       [ 5.,  5.,  5.],\n",
       "       [ 6.,  6.,  6.],\n",
       "       [ 7.,  7.,  7.],\n",
       "       [ 8.,  8.,  8.],\n",
       "       [ 9.,  9.,  9.],\n",
       "       [10., 10., 10.],\n",
       "       [11., 11., 11.],\n",
       "       [12., 12., 12.],\n",
       "       [13., 13., 13.],\n",
       "       [14., 14., 14.],\n",
       "       [15., 15., 15.],\n",
       "       [16., 16., 16.],\n",
       "       [17., 17., 17.],\n",
       "       [18., 18., 18.],\n",
       "       [19., 19., 19.],\n",
       "       [20., 20., 20.],\n",
       "       [21., 21., 21.],\n",
       "       [22., 22., 22.],\n",
       "       [23., 23., 23.],\n",
       "       [24., 24., 24.],\n",
       "       [25., 25., 25.],\n",
       "       [26., 26., 26.],\n",
       "       [27., 27., 27.],\n",
       "       [28., 28., 28.],\n",
       "       [29., 29., 29.]])"
      ]
     },
     "execution_count": 352,
     "metadata": {},
     "output_type": "execute_result"
    }
   ],
   "source": [
    "X = np.ones((30,3))\n",
    "rho = np.arange(30)\n",
    "(X.T*rho).T"
   ]
  },
  {
   "cell_type": "code",
   "execution_count": 367,
   "metadata": {},
   "outputs": [],
   "source": [
    "d=3\n",
    "X = (((np.arange(2**d)[:,None] & (1 << np.arange(d)))) > 0).astype(int)"
   ]
  },
  {
   "cell_type": "code",
   "execution_count": 368,
   "metadata": {},
   "outputs": [
    {
     "data": {
      "text/plain": [
       "array([[0, 0, 0],\n",
       "       [1, 0, 0],\n",
       "       [0, 1, 0],\n",
       "       [1, 1, 0],\n",
       "       [0, 0, 1],\n",
       "       [1, 0, 1],\n",
       "       [0, 1, 1],\n",
       "       [1, 1, 1],\n",
       "       [0, 0, 0],\n",
       "       [1, 0, 0],\n",
       "       [0, 1, 0],\n",
       "       [1, 1, 0],\n",
       "       [0, 0, 1],\n",
       "       [1, 0, 1],\n",
       "       [0, 1, 1],\n",
       "       [1, 1, 1]])"
      ]
     },
     "execution_count": 368,
     "metadata": {},
     "output_type": "execute_result"
    }
   ],
   "source": [
    "np.vstack((X,X))"
   ]
  },
  {
   "cell_type": "code",
   "execution_count": null,
   "metadata": {},
   "outputs": [],
   "source": []
  }
 ],
 "metadata": {
  "kernelspec": {
   "display_name": "Python 3",
   "language": "python",
   "name": "python3"
  },
  "language_info": {
   "codemirror_mode": {
    "name": "ipython",
    "version": 3
   },
   "file_extension": ".py",
   "mimetype": "text/x-python",
   "name": "python",
   "nbconvert_exporter": "python",
   "pygments_lexer": "ipython3",
   "version": "3.6.10"
  }
 },
 "nbformat": 4,
 "nbformat_minor": 2
}
