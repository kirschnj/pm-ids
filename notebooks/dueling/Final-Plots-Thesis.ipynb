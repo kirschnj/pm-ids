{
 "cells": [
  {
   "cell_type": "code",
   "execution_count": 1,
   "metadata": {},
   "outputs": [],
   "source": [
    "import numpy as np\n",
    "import matplotlib.pyplot as plt\n",
    "import glob\n",
    "import os\n",
    "import json\n",
    "import pandas as pd\n",
    "import seaborn as sns\n"
   ]
  },
  {
   "cell_type": "code",
   "execution_count": 2,
   "metadata": {},
   "outputs": [],
   "source": [
    "# Plotting Helpers\n",
    "\n",
    "from __future__ import division, print_function, absolute_import\n",
    "\n",
    "import numpy as np\n",
    "from matplotlib.colors import ColorConverter\n",
    "from matplotlib import rcParams\n",
    "\n",
    "\n",
    "__author__ = 'Felix Berkenkamp / Johannes Kirschner'\n",
    "__all__ = ['set_figure_params', 'emulate_color', 'linewidth_in_data_units',\n",
    "           'adapt_figure_size_from_axes', 'cm2inches', 'hide_all_ticks',\n",
    "           'hide_spines', 'set_frame_properties']\n",
    "\n",
    "\n",
    "def emulate_color(color, alpha=1, background_color=(1, 1, 1)):\n",
    "    \"\"\"Take an RGBA color and an RGB background, return the emulated RGB color.\n",
    "    The RGBA color with transparency alpha is converted to an RGB color via\n",
    "    emulation in front of the background_color.\n",
    "    \"\"\"\n",
    "    to_rgb = ColorConverter().to_rgb\n",
    "    color = to_rgb(color)\n",
    "    background_color = to_rgb(background_color)\n",
    "    return [(1 - alpha) * bg_col + alpha * col\n",
    "            for col, bg_col in zip(color, background_color)]\n",
    "\n",
    "\n",
    "def cm2inches(centimeters):\n",
    "    \"\"\"Convert cm to inches\"\"\"\n",
    "    return centimeters / 2.54\n",
    "\n",
    "\n",
    "def set_figure_params(serif=True):\n",
    "    \"\"\"Define default values for font, fontsize and use latex\n",
    "    Parameters\n",
    "    ----------\n",
    "    serif: bool, optional\n",
    "        Whether to use a serif or sans-serif font\n",
    "    \"\"\"\n",
    "\n",
    "    params = {\n",
    "              'font.family': 'serif',\n",
    "              'font.serif': ['Times',\n",
    "                             'Palatino',\n",
    "                             'New Century Schoolbook',\n",
    "                             'Bookman',\n",
    "                             'Computer Modern Roman'],\n",
    "              'font.sans-serif': ['Times',\n",
    "                                  'Helvetica',\n",
    "                                  'Avant Garde',\n",
    "                                  'Computer Modern Sans serif'],\n",
    "              'text.usetex': True,\n",
    "              'mathtext.fallback': 'stix',\n",
    "              'mathtext.fontset' : 'stix',\n",
    "              # Make sure mathcal doesn't use the Times style\n",
    "              'text.latex.preamble':\n",
    "              r'\\usepackage{amssymb} \\DeclareMathAlphabet{\\mathcal}{OMS}{cmsy}{m}{n}',\n",
    "              'axes.labelsize': 9,\n",
    "              'axes.linewidth': .75,\n",
    "\n",
    "              'font.size': 8,\n",
    "              'legend.fontsize': 8,\n",
    "              'xtick.labelsize': 8,\n",
    "              'ytick.labelsize': 8,\n",
    "\n",
    "              # 'figure.dpi': 150,\n",
    "              # 'savefig.dpi': 600,\n",
    "              # 'legend.numpoints': 1,\n",
    "              }\n",
    "\n",
    "    if not serif:\n",
    "        params['font.family'] = 'sans-serif'\n",
    "\n",
    "    rcParams.update(params)\n",
    "\n",
    "\n",
    "def hide_all_ticks(axis):\n",
    "    \"\"\"Hide all ticks on the axis.\n",
    "    Parameters\n",
    "    ----------\n",
    "    axis: matplotlib axis\n",
    "    \"\"\"\n",
    "    axis.tick_params(axis='both',        # changes apply to the x-axis\n",
    "                     which='both',       # affect both major and minor ticks\n",
    "                     bottom='off',       # ticks along the bottom edge are off\n",
    "                     top='off',          # ticks along the top edge are off\n",
    "                     left='off',         # No ticks left\n",
    "                     right='off',        # No ticks right\n",
    "                     labelbottom='off',  # No tick-label at bottom\n",
    "                     labelleft='off')    # No tick-label at bottom\n",
    "\n",
    "\n",
    "def hide_spines(*axes, top=True, right=True, left=False):\n",
    "    \n",
    "    for axis in axes:\n",
    "        \"\"\"Hide the top and right spine of the axis.\"\"\"\n",
    "        if top:\n",
    "            axis.spines['top'].set_visible(False)\n",
    "            axis.xaxis.set_ticks_position('bottom')\n",
    "        if right:\n",
    "            axis.spines['right'].set_visible(False)\n",
    "            axis.yaxis.set_ticks_position('left')\n",
    "        if left:\n",
    "            axis.spines['left'].set_visible(False)\n",
    "            axis.yaxis.set_ticks([])\n",
    "\n",
    "\n",
    "def set_frame_properties(axis, color, lw):\n",
    "    \"\"\"Set color and linewidth of frame.\"\"\"\n",
    "    for spine in axis.spines.values():\n",
    "        spine.set_linewidth(lw)\n",
    "        spine.set_color(color)\n",
    "\n",
    "\n",
    "def linewidth_in_data_units(linewidth, axis, reference='y'):\n",
    "    \"\"\"\n",
    "    Convert a linewidth in data units to linewidth in points.\n",
    "    Parameters\n",
    "    ----------\n",
    "    linewidth: float\n",
    "        Linewidth in data units of the respective reference-axis\n",
    "    axis: matplotlib axis\n",
    "        The axis which is used to extract the relevant transformation\n",
    "        data (data limits and size must not change afterwards)\n",
    "    reference: string\n",
    "        The axis that is taken as a reference for the data width.\n",
    "        Possible values: 'x' and 'y'. Defaults to 'y'.\n",
    "    Returns\n",
    "    -------\n",
    "    linewidth: float\n",
    "        Linewidth in points\n",
    "    \"\"\"\n",
    "    fig = axis.get_figure()\n",
    "\n",
    "    if reference == 'x':\n",
    "        # width of the axis in inches\n",
    "        axis_length = fig.get_figwidth() * axis.get_position().width\n",
    "        value_range = np.diff(axis.get_xlim())\n",
    "    elif reference == 'y':\n",
    "        axis_length = fig.get_figheight() * axis.get_position().height\n",
    "        value_range = np.diff(axis.get_ylim())\n",
    "\n",
    "    # Convert axis_length from inches to points\n",
    "    axis_length *= 72\n",
    "\n",
    "    return (linewidth / value_range) * axis_length\n",
    "\n",
    "\n",
    "def adapt_figure_size_from_axes(axes):\n",
    "    \"\"\"\n",
    "    Adapt the figure sizes so that all axes are equally wide/high.\n",
    "    When putting multiple figures next to each other in Latex, some\n",
    "    figures will have axis labels, while others do not. As a result,\n",
    "    having the same figure width for all figures looks really strange.\n",
    "    This script adapts the figure sizes post-plotting, so that all the axes\n",
    "    have the same width and height.\n",
    "    Be sure to call plt.tight_layout() again after this operation!\n",
    "    This doesn't work if you have multiple axis on one figure and want them\n",
    "    all to scale proportionally, but should be an easy extension.\n",
    "    Parameters\n",
    "    ----------\n",
    "    axes: list\n",
    "        List of axes that we want to have the same size (need to be\n",
    "        on different figures)\n",
    "    \"\"\"\n",
    "    # Get parent figures\n",
    "    figures = [axis.get_figure() for axis in axes]\n",
    "\n",
    "    # get axis sizes [0, 1] and figure sizes [inches]\n",
    "    axis_sizes = np.array([axis.get_position().size for axis in axes])\n",
    "    figure_sizes = np.array([figure.get_size_inches() for figure in figures])\n",
    "\n",
    "    # Compute average axis size [inches]\n",
    "    avg_axis_size = np.average(axis_sizes * figure_sizes, axis=0)\n",
    "\n",
    "    # New figure size is the average axis size plus the white space that is\n",
    "    # not begin used by the axis so far (e.g., the space used by labels)\n",
    "    new_figure_sizes = (1 - axis_sizes) * figure_sizes + avg_axis_size\n",
    "\n",
    "    # Set new figure sizes\n",
    "    for figure, size in zip(figures, new_figure_sizes):\n",
    "        figure.set_size_inches(size)\n",
    "        \n",
    "def plot_errorbars(axis, x, y, err, num=10, sigma=2, **kwargs):\n",
    "    T = len(y)\n",
    "\n",
    "    if axis.get_xscale() == 'log':\n",
    "        l,h = x[0], x[-1]\n",
    "        a = (h/l)**(1/num)\n",
    "        b = np.log(l)/np.log(a)\n",
    "        pos = np.power(a, np.linspace(b, b+num, num))\n",
    "        pos = (pos - pos[0])/pos[-1]\n",
    "        pos = np.floor(pos*np.linspace(1, len(x)-1, num=num)).astype(int)\n",
    "        \n",
    "        xpos = x[pos]\n",
    "        ypos = y[pos]\n",
    "        width = sigma*err[pos]\n",
    "    else:\n",
    "        pos = np.floor(np.linspace(0, len(x)-1, num=num)).astype(int)\n",
    "        xpos = x[pos]\n",
    "        ypos = y[pos]\n",
    "        width = sigma*err[pos]\n",
    "    \n",
    "    axis.errorbar(xpos, ypos, width, \n",
    "                  ecolor=emulate_color('black', alpha=0.6),\n",
    "                     capsize=2,\n",
    "                     capthick=0.3,\n",
    "                     elinewidth=0.3,\n",
    "                     linewidth=0.6,\n",
    "                     fmt=\"none\",\n",
    "                     errorevery=1,\n",
    "                     **kwargs)\n",
    "def shift_axis(ax, x):\n",
    "    \"\"\" shift a subplot axis ax by x\"\"\"\n",
    "    pos = ax.get_position()\n",
    "    points = pos.get_points()\n",
    "    points[:,0] += x\n",
    "    pos.set_points(points)\n",
    "    ax.set_position(pos)\n",
    "def permute_list(lst, perm):\n",
    "    new_list = []\n",
    "    for i in perm:\n",
    "        new_list.append(lst[i])\n",
    "    return new_list"
   ]
  },
  {
   "cell_type": "code",
   "execution_count": 3,
   "metadata": {},
   "outputs": [],
   "source": [
    "def load_data(env_path, basedir, sort_fct=None, final_only=False, verbose=False):\n",
    "    \"\"\" helper function to load aggregated data \"\"\"\n",
    "    data = dict()\n",
    "    extra_data = dict()\n",
    "    env = None\n",
    "    \n",
    "    for path in glob.iglob(os.path.join(basedir, env_path, '*/'), recursive=False):\n",
    "        strategy = path.rsplit(os.sep, maxsplit=3)[2]\n",
    "        env = path.rsplit(os.sep, maxsplit=3)[1]\n",
    "        env, horizon = env.split('-')\n",
    "        horizon = int(horizon)\n",
    "        \n",
    "#         print(env, strategy)\n",
    "\n",
    "        strategy_dict = dict()\n",
    "    \n",
    "        extra_files = [os.path.split(f)[1] for f in glob.iglob(path + 'extra-*.csv')]\n",
    "        if len(extra_files) > 0:\n",
    "            extra_data[strategy] = []\n",
    "            for file in extra_files:\n",
    "                df = pd.read_csv(os.path.join(path, file))\n",
    "                extra_data[strategy].append(df)\n",
    "\n",
    "        \n",
    "        # get all files that where created for regret aggregation, there might be multiple\n",
    "        aggr_files = [os.path.split(f)[1] for f in glob.iglob(path + 'aggr-*.csv')]\n",
    "#         print(aggr_files)\n",
    "        \n",
    "        if len(aggr_files) == 0:\n",
    "            continue\n",
    "            \n",
    "        with open(os.path.join(path, 'params.json')) as json_file:\n",
    "            args = json.load(json_file)\n",
    "        \n",
    "        name = strategy.split('-')[0]\n",
    "        strategy_dict['args'] = args\n",
    "        strategy_dict['algorithm'] = name\n",
    "        strategy_dict['env'] = env\n",
    "        strategy_dict['n'] = horizon\n",
    "        args_str = ','.join(f\"{k}={v}\" for k,v in args.items())\n",
    "        strategy_dict['algorithm_args'] = f\"{name}-{args_str}\"\n",
    "                                                        \n",
    "        # find different aggregators and use the largest one\n",
    "        aggr_dict = {}\n",
    "        count = 0\n",
    "        for file in aggr_files:\n",
    "            _, aggr, count = file.split('-')\n",
    "            count = int(count[:-4])  # shave of '.csv' suffix\n",
    "            if aggr_dict.get(aggr, (0, None))[0] < count:\n",
    "                aggr_dict[aggr] = count, file\n",
    "                        \n",
    "        for aggr, (count, file) in aggr_dict.items():\n",
    "            # store data\n",
    "#             print(f\"{name}: reading {file} with {count} runs.\")\n",
    "            if verbose:\n",
    "                print(f\"{name}: {count} runs.\")\n",
    "\n",
    "            if final_only:\n",
    "                strategy_dict[aggr] = pd.read_csv(os.path.join(path, file), delimiter=\" \", header=None).values[-2:-1]\n",
    "            else:\n",
    "                strategy_dict[aggr] = pd.read_csv(os.path.join(path, file), delimiter=\" \", header=None).values\n",
    "\n",
    "#             strategy_dict[aggr] = np.loadtxt(os.path.join(path, file))\n",
    "        strategy_dict['repetitions'] = count\n",
    "        \n",
    "        data[strategy] = strategy_dict\n",
    "    if sort_fct is None:\n",
    "        data = {k : v for k,v in sorted(data.items(), key=lambda i: i[1]['algorithm_args']) }\n",
    "    else:\n",
    "        data = {k : v for k,v in sorted(data.items(), key=sort_fct) }\n",
    "    print(f\"Loaded {len(data)} algorithms.\")\n",
    "    return env, data, extra_data"
   ]
  },
  {
   "cell_type": "code",
   "execution_count": 4,
   "metadata": {},
   "outputs": [],
   "source": [
    "def plot_regret(data, axis, style_fct=None, exclude_fct=None, scale_fct=None, n=None, n0=0, sigma=2., every=1):\n",
    "    color_idx = 0\n",
    "    lines = []\n",
    "    i = 0\n",
    "    for strategy, strategy_data in data.items():\n",
    "        if exclude_fct is not None and exclude_fct(strategy_data):\n",
    "            continue\n",
    "\n",
    "        regret = strategy_data['regret']\n",
    "        if n is None:\n",
    "            n = strategy_data['n']\n",
    "        x=np.arange(0, n)\n",
    "        rep = strategy_data['repetitions']\n",
    "        \n",
    "        # get styles\n",
    "        if style_fct is None:\n",
    "            styles = dict(color=COLORS[i], label=strategy)\n",
    "        else:\n",
    "            styles = style_fct(strategy_data, i)\n",
    "        \n",
    "        scale = 1.\n",
    "        if scale_fct is not None:\n",
    "            scale = scale_fct(strategy_data)\n",
    "        \n",
    "        mean = regret[n0:n:every, 0]\n",
    "        err = sigma*regret[n0:n:every, 1]/np.sqrt(rep)\n",
    "        lines.append(axis.plot(scale*x[n0:n:every], mean, **styles))\n",
    "        print(strategy)\n",
    "        axis.fill_between(scale*x[n0:n:every], mean - err, mean + err, color=styles['color'], alpha=0.2, linewidth=0.)\n",
    "   \n",
    "#         plot_errorbars(axis, x, , regret[n0:n, 1]/np.sqrt(rep), num=10, sigma=2)\n",
    "\n",
    "        \n",
    "        i += 1\n",
    "    return lines"
   ]
  },
  {
   "cell_type": "markdown",
   "metadata": {},
   "source": [
    "# Configuration"
   ]
  },
  {
   "cell_type": "code",
   "execution_count": 5,
   "metadata": {},
   "outputs": [
    {
     "data": {
      "image/png": "[encoded data removed]",
      "text/plain": [
       "<Figure size 720x72 with 1 Axes>"
      ]
     },
     "metadata": {
      "needs_background": "light"
     },
     "output_type": "display_data"
    }
   ],
   "source": [
    "TEXTWIDTH = 4.56783\n",
    "PLOTDIR = '/home/johannes/Documents/PhD/thesis/figures'\n",
    "GOLDEN = 1.618\n",
    "COLORS = sns.color_palette(\"muted\")\n",
    "sns.palplot(COLORS)"
   ]
  },
  {
   "cell_type": "code",
   "execution_count": 6,
   "metadata": {},
   "outputs": [],
   "source": [
    "t_IDS = r\"\\textsc{IDS}\"\n",
    "t_BIDS = r\"\\textsc{Bayes-IDS}\"\n",
    "t_UCB = r\"\\textsc{UCB}\"\n",
    "t_GPUCB = r\"\\textsc{GPUCB}\"\n",
    "t_IUCB = r\"$I^{UCB}$\"\n",
    "t_IDET = r\"$I^{DET}$\"\n",
    "t_IAUCB = r\"$I^{A-UCB}$\"\n",
    "t_IAWC = r\"$I^{A}$\"\n",
    "t_IACELL = r\"$I^{A-CELL}$\"\n",
    "t_IAUCBCELL = r\"$I^{A-UCB-CELL}$\"\n",
    "t_IVAR = r\"$I^{VAR}$\"\n",
    "t_IPM = r\"$I^{PM}$\"\n",
    "t_SDIRAC = r\"\\textsc{Dirac}\"\n",
    "t_SFAST = r\"\\textsc{Fast}\"\n",
    "t_SFULL = r\"\\textsc{Exact}\"\n",
    "t_REGRET = r\"$\\mathfrak{R}_n$\""
   ]
  },
  {
   "cell_type": "code",
   "execution_count": 7,
   "metadata": {},
   "outputs": [],
   "source": [
    "# only_logdet = True\n",
    "\n",
    "def exclude_fct(strategy_data):\n",
    "    \"\"\" exclude specific runs from plotting \"\"\"\n",
    "    args = strategy_data['args']\n",
    "    algorithm = strategy_data['algorithm']\n",
    "#     if algorithm == 'IDS':\n",
    "#         if args['ids_sampling'] != 'fast':\n",
    "#             return True\n",
    "\n",
    "#     if args.get('delta'):\n",
    "#         return True\n",
    "    \n",
    "#     if not args.get('normalize_actions'):\n",
    "#         return True\n",
    "    if algorithm == 'IDS' and \\\n",
    "        not (args.get('ids_info') == 'UCBInfoGain' and args.get('ids_gap') == 'FastValueGap'):\n",
    "        return True\n",
    "    return False\n",
    "\n",
    "\n",
    "STYLES = {\n",
    "    'IDS' : {\n",
    "        'UCBInfoGain' : dict(label=f'{t_IDS}-{t_IUCB}', color=COLORS[0]),\n",
    "        'WorstCaseInfoGain' : dict(label=f'{t_IDS}-{t_IDET}', color=COLORS[1]),\n",
    "        'AsymptoticInfoGain-worst_case' : dict(label=f'{t_IDS}-{t_IAWC}', color=COLORS[1]),\n",
    "        'AsymptoticInfoGain-ucb' : dict(label=f'{t_IDS}-{t_IAUCB}', color=COLORS[0]),\n",
    "        'VarInfoGain' : dict(label=f'{t_BIDS}-{t_IVAR}', color=COLORS[3]),\n",
    "        'DirectedInfoGain' : dict(label=f'{t_IDS}-{t_IPM}', color=COLORS[4]),\n",
    "#         'UCBInfoGain' : dict(label='IDS-IUCB', color=COLORS[0]),\n",
    "        'deterministic' : dict(linestyle=':'),\n",
    "        'contextual' : dict(linestyle=':'),\n",
    "        'fast' : dict(linestyle='-.'),\n",
    "        'full' : dict(linestyle='-')\n",
    "    },\n",
    "    'AsymptoticIDS' : { \n",
    "        True : dict(label=f'{t_IDS}-{t_IAUCB}', color=COLORS[0]),\n",
    "        False : dict(label=f'{t_IDS}-{t_IAWC}', color=COLORS[1]),\n",
    "    },\n",
    "    'DuelingKernelIDS' : dict(label=f'{t_IDS}-DUEL', color=COLORS[1]),\n",
    "    'DuelingIDS' : dict(label=f'{t_IDS}-DUEL', color=COLORS[1]),\n",
    "    'UCB' : dict(label=t_UCB, color=COLORS[2]),\n",
    "    'GPUCB' : dict(label=t_UCB, color=COLORS[2]),\n",
    "    'Solid-False' : dict(label='SOLID', color=COLORS[5]),\n",
    "    'Solid-True' : dict(label='SOLID++', color=COLORS[5], linestyle='-.'),\n",
    "    'TS' : dict(label=r'\\textsc{TS}', color=COLORS[4]),\n",
    "    'SemiparametricTS' : dict(label='Semi-TS', color=COLORS[7], linestyle=':'),\n",
    "\n",
    "    'GCB' : dict(label=r'\\textsc{GCB}', color=COLORS[6]),\n",
    "    'Bose' : dict(label=r'\\textsc{BOSE}', color=COLORS[6], linestyle=':'),\n",
    "\n",
    "    'PEGE-log' : dict(label=r'\\textsc{PEGE-log}', color=COLORS[7], linestyle=':'),\n",
    "    'PEGE-worst_case' : dict(label=r'\\textsc{PEGE-wc}', color=COLORS[7]),\n",
    "    'MaxInP': dict(label='MaxInP', color=COLORS[8], linestyle='-.'),\n",
    "}\n",
    "\n",
    "\n",
    "def style_fct(strategy_data, i):\n",
    "    \"\"\" read data for strategy and return a label. By default, returns the algorithm name. \"\"\"\n",
    "    label = strategy_data['algorithm']\n",
    "    args = strategy_data['args']\n",
    "    style = dict()\n",
    "    if label == 'IDS':\n",
    "        info = args['ids_info']\n",
    "        if info == \"AsymptoticInfoGain\":\n",
    "            info+= f\"-{args['ids_info_correction']}\"\n",
    "        style.update(STYLES['IDS'][info])\n",
    "        style.update(STYLES['IDS'][args['ids_sampling']])\n",
    "        if args['ids_sampling'] == 'contextual':\n",
    "            label += r\"\\textsc{FW}\" + fr\"-{args['ids_fw_steps']}\"\n",
    "    elif label == 'AsymptoticIDS':  # legacy naming\n",
    "        style.update(STYLES[label][args['opt2']])\n",
    "    elif label == 'Solid' :\n",
    "        label += f\"-{args['solid_opt']}\"\n",
    "        style.update(STYLES[label])\n",
    "    elif label == 'PEGE':\n",
    "        label += f\"-{args['pege_mode']}\"\n",
    "        style.update(STYLES[label])\n",
    "    else:\n",
    "        style.update(STYLES[label])\n",
    "    \n",
    "    if label == 'UCB' and args.get('ucb_force_homoscedastic'):\n",
    "        style['label'] = f'{t_UCB} (homosc.)'\n",
    "        style['linestyle']  = ':'\n",
    "        \n",
    "    return style\n",
    "\n",
    "def scale_fct(strategy_data):\n",
    "    algo = strategy_data['algorithm']\n",
    "    args = strategy_data['args']\n",
    "    if args.get('to_dueling') == 'two':\n",
    "        return 2.\n",
    "    \n",
    "    return 1."
   ]
  },
  {
   "cell_type": "markdown",
   "metadata": {},
   "source": [
    "# Chapter 3"
   ]
  },
  {
   "cell_type": "markdown",
   "metadata": {},
   "source": [
    "## Noise Benchmark"
   ]
  },
  {
   "cell_type": "code",
   "execution_count": 8,
   "metadata": {},
   "outputs": [
    {
     "name": "stdout",
     "output_type": "stream",
     "text": [
      "Loaded 108 algorithms.\n"
     ]
    }
   ],
   "source": [
    "basedir = '../../runs-thesis/3/'\n",
    "exp_name = \"noise_example-1000\"\n",
    "env, data, extra_data = load_data(exp_name, basedir=basedir)"
   ]
  },
  {
   "cell_type": "code",
   "execution_count": 9,
   "metadata": {},
   "outputs": [],
   "source": [
    "def filter_ids_worst_case(strategy_data):\n",
    "    args = strategy_data['args']\n",
    "    algorithm = strategy_data['algorithm']\n",
    "    return algorithm == 'IDS' and args.get('ids_info') == 'WorstCaseInfoGain'\n",
    "\n",
    "def filter_ids_ucb(strategy_data):\n",
    "    args = strategy_data['args']\n",
    "    algorithm = strategy_data['algorithm']\n",
    "    return algorithm == 'IDS' and args.get('ids_info') == 'UCBInfoGain'\n",
    "\n",
    "def filter_ucb(strategy_data):\n",
    "    args = strategy_data['args']\n",
    "    algorithm = strategy_data['algorithm']\n",
    "    return algorithm == 'UCB'\n",
    "\n",
    "def exclude_rho_eps(strategy_data):\n",
    "    args = strategy_data['args']\n",
    "    algorithm = strategy_data['algorithm']\n",
    "    return not (args['noise_example_eps']==0.4 and args['noise_example_rhoi']==0.2)\n",
    "\n",
    "def get_noise_example_data(data, filter_fct, d):\n",
    "    final_regret = -np.ones((d+1, d+1))\n",
    "    for strategy, strategy_data in data.items():\n",
    "        if not filter_fct(strategy_data):\n",
    "            continue\n",
    "\n",
    "        args = strategy_data['args']\n",
    "        regret = strategy_data['regret'][-1][0]\n",
    "        eps = args['noise_example_eps']\n",
    "        rhoi = args['noise_example_rhoi']\n",
    "        \n",
    "        eps, rhoi = (int(eps*d), int(rhoi*d))\n",
    "        if final_regret[eps, rhoi] >= 0:\n",
    "            raise RuntimeError(\"Filter function does not yield unique algorithm\")\n",
    "        final_regret[eps, rhoi] = regret\n",
    "    return final_regret"
   ]
  },
  {
   "cell_type": "code",
   "execution_count": 10,
   "metadata": {},
   "outputs": [],
   "source": [
    "ucb_regret = get_noise_example_data(data, filter_fct=filter_ucb, d=5)\n",
    "ids_wc_regret = get_noise_example_data(data, filter_fct=filter_ids_worst_case, d=5)\n",
    "ids_ucb_regret = get_noise_example_data(data, filter_fct=filter_ids_ucb, d=5)"
   ]
  },
  {
   "cell_type": "code",
   "execution_count": 12,
   "metadata": {},
   "outputs": [
    {
     "data": {
      "image/png": "[encoded data removed]",
      "text/plain": [
       "<Figure size 312.44x149.493 with 4 Axes>"
      ]
     },
     "metadata": {
      "needs_background": "light"
     },
     "output_type": "display_data"
    }
   ],
   "source": [
    "fig, (ax2, ax_empty, ax1, ax3)= plt.subplots(ncols=4, figsize=(0.95*TEXTWIDTH,TEXTWIDTH/2.2), \n",
    "                                   gridspec_kw={'width_ratios': [1, 0.1, 1, 0.1]})\n",
    "\n",
    "ticks = [i/5 for i in range(6)]\n",
    "ids_ucb_relative = ucb_regret - ids_ucb_regret\n",
    "ids_wc_relative = ucb_regret - ids_wc_regret\n",
    "ids_wc_ucb = ids_ucb_regret - ids_wc_regret\n",
    "\n",
    "heatmap_kw = dict(\n",
    "    linewidth=0.5,\n",
    "    vmin=-200, \n",
    "    vmax=600, \n",
    "#     cmap=sns.color_palette(\"crest\", as_cmap=True),\n",
    "    cmap=sns.cubehelix_palette(start=.5, rot=-.75, as_cmap=True),\n",
    "    fmt='g',\n",
    "    xticklabels=ticks,\n",
    "    yticklabels=ticks\n",
    ")\n",
    "sns.heatmap(ids_ucb_relative,  ax=ax1, cbar=False, annot=np.round(ids_ucb_relative), **heatmap_kw, )\n",
    "sns.heatmap(ids_wc_relative, ax=ax2, cbar=True, cbar_ax=ax3, annot=np.round(ids_wc_relative), **heatmap_kw)\n",
    "# sns.heatmap(ids_wc_ucb, linewidth=0.5, ax=ax3, vmin=vmin, vmax=vmax, cmap=cmap, annot=np.round(ids_wc_ucb),fmt='g')\n",
    "\n",
    "\n",
    "for ax in (ax1, ax2):\n",
    "    ax.set_ylabel(r'$\\epsilon$')\n",
    "    ax.set_xlabel(r'$1/\\rho^*$')\n",
    "ax_empty.axis('off')\n",
    "\n",
    "set_figure_params()\n",
    "fig.subplots_adjust(left=0.)\n",
    "ax1.set_title(f\"{t_IDS}-{t_IUCB} vs {t_UCB}\")\n",
    "ax2.set_title(f\"{t_IDS}-{t_IDET} vs {t_UCB}\")\n",
    "\n",
    "# fig.tight_layout()\n",
    "fig.savefig(os.path.join(PLOTDIR, 'linear', 'noise_example.pdf',), bbox_inches='tight', pad_inches=0.10)"
   ]
  },
  {
   "cell_type": "markdown",
   "metadata": {},
   "source": [
    "## Env C"
   ]
  },
  {
   "cell_type": "code",
   "execution_count": 13,
   "metadata": {},
   "outputs": [
    {
     "name": "stdout",
     "output_type": "stream",
     "text": [
      "Loaded 16 algorithms.\n"
     ]
    }
   ],
   "source": [
    "basedir = '../../runs-thesis/3/'\n",
    "exp_name = \"2018_heteroscedastic_c-5000\"\n",
    "env, data, extra_data = load_data(exp_name, basedir=basedir)"
   ]
  },
  {
   "cell_type": "code",
   "execution_count": 15,
   "metadata": {},
   "outputs": [
    {
     "name": "stdout",
     "output_type": "stream",
     "text": [
      "IDS-43a831d2e75d96fc17320628d08d200b\n",
      "IDS-511d3362152e3dae84e899bbd455b680\n",
      "IDS-14ebe2d68273e7d1e516d10f204c799b\n",
      "IDS-a37721a4636dfdb7fb361b53727cc951\n",
      "IDS-41205272fcda1255b63f2fe2e11530a9\n",
      "IDS-d9f1a5060fe4133718ab0803aedeec96\n",
      "UCB-053b3bb8a97828d88986ea3270132343\n",
      "UCB-48caeeceda1ee2e53da8c7e9174a6317\n",
      "IDS-c99373475006f8d7c7bd493286590732\n",
      "IDS-94eb3aed1cdd251999fbfd4a40b8722c\n",
      "IDS-42c30078dc9edfafdbaeb917b23ceeba\n",
      "IDS-a367e7092b4c60f36a46eb21cd1a9391\n",
      "IDS-0153e7050a0a7f0c142a94b7928b3f44\n",
      "IDS-c89247ff71e0870a1f4c2b211a0e9592\n",
      "UCB-5c8d51920f6c042fa223d8b23dc08051\n",
      "UCB-02447c291649d114316b160d576d625c\n"
     ]
    },
    {
     "name": "stderr",
     "output_type": "stream",
     "text": [
      "<ipython-input-15-301274dd1fa5>:36: UserWarning: You have mixed positional and keyword arguments, some input may be discarded.\n",
      "  lgd = fig.legend(lines,     # The line objects\n"
     ]
    },
    {
     "data": {
      "image/png": "[encoded data removed]",
      "text/plain": [
       "<Figure size 328.884x131.554 with 2 Axes>"
      ]
     },
     "metadata": {
      "needs_background": "light"
     },
     "output_type": "display_data"
    }
   ],
   "source": [
    "# two per figure plots\n",
    "fig, (ax1, ax2) = plt.subplots(ncols=2, figsize=(TEXTWIDTH, TEXTWIDTH/2.5))\n",
    "\n",
    "\n",
    "def homoscedastic_only(strategy_data):\n",
    "    args = strategy_data['args']\n",
    "    algorithm = strategy_data['algorithm']\n",
    "    return not args['env_force_homoscedastic']\n",
    "\n",
    "def heteroscedastic_only(strategy_data):\n",
    "    args = strategy_data['args']\n",
    "    algorithm = strategy_data['algorithm']\n",
    "    return args['env_force_homoscedastic']\n",
    "\n",
    "def style_mod(strategy_data, i):\n",
    "    styles = style_fct(strategy_data, i)\n",
    "    args = strategy_data['args']\n",
    "    algorithm = strategy_data['algorithm']\n",
    "    if algorithm == 'IDS':\n",
    "        if args['ids_sampling'] == 'deterministic':\n",
    "            styles['label'] = styles['label'] +f'-{t_SDIRAC}'\n",
    "        if args['ids_sampling'] == 'full':\n",
    "            styles['label'] = styles['label'] +f'-{t_SFULL}'\n",
    "        if args['ids_sampling'] == 'fast':\n",
    "            styles['label'] = styles['label'] +f'-{t_SFAST}'\n",
    "    return styles\n",
    "\n",
    "# plot first axis\n",
    "plot_regret(data, ax1,  exclude_fct=homoscedastic_only, style_fct=style_mod)\n",
    "ax1.set_ylabel('Regret')\n",
    "# ax1.legend(loc=\"upper left\")\n",
    "\n",
    "lines = plot_regret(data,  ax2, exclude_fct=heteroscedastic_only,  style_fct=style_mod)\n",
    "# ax2.set_ylabel('Regret')\n",
    "\n",
    "lgd = fig.legend(lines,     # The line objects\n",
    "           labels=[l[0].get_label() for l in lines],   # The labels for each line\n",
    "           loc=('lower center'),   # Position of legend\n",
    "           borderaxespad=0. , \n",
    "           bbox_to_anchor=(0.5,-0.3),# Small spacing around legend box\n",
    "           ncol=3,\n",
    "           fancybox=False,\n",
    "           frameon=False,\n",
    "           columnspacing=1.,\n",
    "          )\n",
    "ax1.set_title(\"Homoscedastic Noise\")\n",
    "ax2.set_title(\"Heteroscedastic Noise\")\n",
    "for ax in (ax1, ax2):\n",
    "    ax.set_xlim(0,5000)\n",
    "\n",
    "ax1.set_ylim(0,300)\n",
    "ax2.set_ylim(0,170)\n",
    "\n",
    "\n",
    "ax1.annotate(f\"{t_IDS}-{t_IDET}-\" + \"\\{\" + f\"{t_SFAST}, {t_SFULL}\" +\"\\}\", xy=(3000,200),  xytext=(300, 250),\n",
    "             arrowprops=dict(facecolor='black', arrowstyle='->'),\n",
    "            horizontalalignment='left', verticalalignment='bottom')\n",
    "ax2.annotate(text='', xy=(4900,50), xytext=(4900,160), arrowprops=dict(arrowstyle='<->'))\n",
    "ax2.text(5050, 100, 'a)')\n",
    "ax2.annotate(text='', xy=(4900,25), xytext=(4900,55), arrowprops=dict(arrowstyle='<->'))\n",
    "ax2.text(5050, 35, 'b)')\n",
    "\n",
    "\n",
    "\n",
    "set_figure_params()\n",
    "hide_spines(ax1, ax2)\n",
    "fig.subplots_adjust()\n",
    "fig.tight_layout()\n",
    "fig.savefig(os.path.join(PLOTDIR, 'linear', 'env_c.pdf',), bbox_inches='tight', pad_inches=0.00)"
   ]
  },
  {
   "cell_type": "markdown",
   "metadata": {},
   "source": [
    "# Chapter 5"
   ]
  },
  {
   "cell_type": "markdown",
   "metadata": {},
   "source": [
    "## Tuning beta"
   ]
  },
  {
   "cell_type": "code",
   "execution_count": 25,
   "metadata": {},
   "outputs": [
    {
     "name": "stdout",
     "output_type": "stream",
     "text": [
      "Loaded 18 algorithms.\n",
      "Loaded 72 algorithms.\n"
     ]
    }
   ],
   "source": [
    "basedir = '../../runs-thesis/5/tuned/'\n",
    "exp_name = \"simple_bandit_d2_k6_v0.1-10000\"\n",
    "_, data1d, _ = load_data(exp_name, basedir=basedir)\n",
    "\n",
    "basedir = '../../runs-thesis/5/tuned2/'\n",
    "exp_name = \"simple_bandit_d2_k6_v0.1-10000\"\n",
    "_, data2d, _ = load_data(exp_name, basedir=basedir)\n",
    "\n",
    "out5tuning = 'random'\n",
    "\n",
    "# basedir = '../../runs-thesis/5/tuned/'\n",
    "# exp_name = \"simple_bandit_d2_k6_v10.0-10000\"\n",
    "# _, data1d, _ = load_data(exp_name, basedir=basedir)\n",
    "\n",
    "# basedir = '../../runs-thesis/5/tuned2/'\n",
    "# exp_name = \"simple_bandit_d2_k6_v10.0-10000\"\n",
    "# _, data2d, _ = load_data(exp_name, basedir=basedir)\n",
    "\n",
    "# out5tuning = 'randomv10'\n",
    "\n",
    "# basedir = '../../runs-thesis/5/tuned/'\n",
    "# exp_name = \"simple_bandit_d2_k6_v1.0-10000\"\n",
    "# _, data1d, _ = load_data(exp_name, basedir=basedir)\n",
    "\n",
    "# basedir = '../../runs-thesis/5/tuned2/'\n",
    "# exp_name = \"simple_bandit_d2_k6_v1.0-10000\"\n",
    "# _, data2d, _ = load_data(exp_name, basedir=basedir)\n",
    "\n",
    "# out5tuning = 'randomv1'\n",
    "\n",
    "\n",
    "# basedir = '../../runs-thesis/5/tuned/'\n",
    "# exp_name = \"counter_example_v0.1_e0.01_a0.5-1000000\"\n",
    "# _, data1d, _ = load_data(exp_name, basedir=basedir, final_only=True)\n",
    "\n",
    "# basedir = '../../runs-thesis/5/tuned2/'\n",
    "# exp_name = \"counter_example_v0.1_e0.01_a0.5-1000000\"\n",
    "# _, data2d, _ = load_data(exp_name, basedir=basedir, final_only=True)\n",
    "\n",
    "# out5tuning = 'eoo'"
   ]
  },
  {
   "cell_type": "code",
   "execution_count": 26,
   "metadata": {},
   "outputs": [],
   "source": [
    "# basedir = '../../runs-thesis/5/tuned/'\n",
    "# exp_name = \"counter_example_v0.1_e0.01_a0.5-1000001\"\n",
    "# _, dataeta, _ = load_data(exp_name, basedir=basedir, final_only=True)"
   ]
  },
  {
   "cell_type": "code",
   "execution_count": 27,
   "metadata": {},
   "outputs": [
    {
     "data": {
      "text/plain": [
       "(array([[ 11.0125171 ],\n",
       "        [ 18.89248409],\n",
       "        [ 29.43044164],\n",
       "        [ 58.72204983],\n",
       "        [ 96.05789122],\n",
       "        [157.00453285]]),\n",
       " [1.0, 2.0, 4.0, 8.0, 16.0, 32.0])"
      ]
     },
     "execution_count": 27,
     "metadata": {},
     "output_type": "execute_result"
    }
   ],
   "source": [
    "def filter_ids_worst_case(strategy_data):\n",
    "    args = strategy_data['args']\n",
    "    algorithm = strategy_data['algorithm']\n",
    "    return algorithm == 'IDS' and args.get('ids_info_correction') == 'worst_case'\n",
    "\n",
    "def filter_ids_ucb(strategy_data):\n",
    "    args = strategy_data['args']\n",
    "    algorithm = strategy_data['algorithm']\n",
    "    return algorithm == 'IDS' and args.get('ids_info_correction') == 'ucb'\n",
    "\n",
    "def filter_ucb(strategy_data):\n",
    "    args = strategy_data['args']\n",
    "    algorithm = strategy_data['algorithm']\n",
    "    return algorithm == 'UCB'\n",
    "\n",
    "def exclude_rho_eps(strategy_data):\n",
    "    args = strategy_data['args']\n",
    "    algorithm = strategy_data['algorithm']\n",
    "    return not (args['noise_example_eps']==0.4 and args['noise_example_rhoi']==0.2)\n",
    "\n",
    "def get_final_regret_1d(data, filter_fct, return_dict=False, field='lls_beta'):\n",
    "    final_regret = dict()\n",
    "    \n",
    "    for strategy, strategy_data in data.items():\n",
    "        if not filter_fct(strategy_data):\n",
    "            continue\n",
    "\n",
    "        args = strategy_data['args']\n",
    "        regret = strategy_data['regret'][-1][0]\n",
    "        beta = args[field]\n",
    "#         rhoi = args['noise_example_rhoi']\n",
    "        \n",
    "        if beta in final_regret:\n",
    "            raise RuntimeError(\"Filter function does not yield unique algorithm\")\n",
    "        final_regret[beta] = regret\n",
    "    if return_dict:\n",
    "        return final_regret, None\n",
    "    beta = sorted([*final_regret.keys()])\n",
    "    final_regret = np.array([v for k, v in sorted(final_regret.items(), key=lambda x: x[0])])\n",
    "    return final_regret.reshape(-1,1), beta\n",
    "\n",
    "\n",
    "def get_final_regret_2d(data, filter_fct, return_dict=False):\n",
    "    final_regret = dict()\n",
    "    \n",
    "    for strategy, strategy_data in data.items():\n",
    "        if not filter_fct(strategy_data):\n",
    "            continue\n",
    "\n",
    "        args = strategy_data['args']\n",
    "        regret = strategy_data['regret'][-1][0]\n",
    "        beta = args['lls_beta']\n",
    "        eta = args['ids_eta']\n",
    "        \n",
    "        if not beta in final_regret:\n",
    "            final_regret[beta] = dict()\n",
    "#         rhoi = args['noise_example_rhoi']\n",
    "        \n",
    "        if eta in final_regret[beta]:\n",
    "            raise RuntimeError(\"Filter function does not yield unique algorithm\")\n",
    "        final_regret[beta][eta] = regret\n",
    "    \n",
    "    if return_dict:\n",
    "        return final_regret, None, None\n",
    "    # inner sort\n",
    "    primary = sorted([*final_regret.keys()])\n",
    "    secondary = sorted([*final_regret[primary[0]].keys()])\n",
    "    for key in final_regret.keys():\n",
    "        final_regret[key] = np.array([v for k, v in sorted(final_regret[key].items(), key=lambda x: x[0])])\n",
    "    final_regret = np.array([v for k, v in sorted(final_regret.items(), key=lambda x: x[0])])\n",
    "\n",
    "    return final_regret, primary, secondary\n",
    "\n",
    "get_final_regret_1d(data1d, filter_ids_worst_case)"
   ]
  },
  {
   "cell_type": "code",
   "execution_count": 28,
   "metadata": {},
   "outputs": [],
   "source": [
    "return_dict=False\n",
    "ids_wc_2d, beta, eta = get_final_regret_2d(data2d, filter_fct=filter_ids_worst_case, return_dict=return_dict)\n",
    "ids_ucb_2d, beta, eta = get_final_regret_2d(data2d, filter_fct=filter_ids_ucb, return_dict=return_dict)\n",
    "ids_wc_1d, beta = get_final_regret_1d(data1d, filter_fct=filter_ids_worst_case, return_dict=return_dict)\n",
    "ids_ucb_1d, beta = get_final_regret_1d(data1d, filter_fct=filter_ids_ucb, return_dict=return_dict)\n",
    "ucb_1d, beta = get_final_regret_1d(data1d, filter_fct=filter_ucb, return_dict=return_dict)\n",
    "\n",
    "# ucb_1d, ids_ucb_1d, ids_wc_1d\n",
    "# ids_wc_2d, ids_ucb_2d"
   ]
  },
  {
   "cell_type": "code",
   "execution_count": 29,
   "metadata": {},
   "outputs": [],
   "source": [
    "# get_final_regret_1d(dataeta, filter_fct=filter_ids_worst_case, field='ids_eta')"
   ]
  },
  {
   "cell_type": "code",
   "execution_count": 30,
   "metadata": {},
   "outputs": [
    {
     "data": {
      "image/png": "[encoded data removed]",
      "text/plain": [
       "<Figure size 312.44x137.035 with 6 Axes>"
      ]
     },
     "metadata": {
      "needs_background": "light"
     },
     "output_type": "display_data"
    }
   ],
   "source": [
    "ratio_1d = 0.15\n",
    "fig, axes = plt.subplots(ncols=6, figsize=(TEXTWIDTH*0.95,TEXTWIDTH/2.4), \n",
    "                                   gridspec_kw={'width_ratios': [1,ratio_1d, 1, ratio_1d,ratio_1d, 0.1]})\n",
    "ax1, ax3, ax2, ax4, ax5, ax_bar = axes\n",
    "\n",
    "\n",
    "VMAX=dict(eoo=700,random=200,randomv1=400,randomv10=500)\n",
    "vmax = VMAX[out5tuning]\n",
    "heatmap_kw = dict(\n",
    "    linewidth=0.5,\n",
    "    vmin=0, \n",
    "    vmax=vmax, \n",
    "#     cmap=sns.color_palette(\"crest\", as_cmap=True),\n",
    "    cmap=sns.cubehelix_palette(start=.5, rot=-.75, as_cmap=True),\n",
    "    fmt='g',\n",
    "    xticklabels=eta,\n",
    "    yticklabels=beta)\n",
    "sns.heatmap(ids_wc_2d,  ax=ax1, cbar=False, annot=np.round(ids_wc_2d), **heatmap_kw)\n",
    "heatmap_kw['yticklabels'] = False\n",
    "\n",
    "sns.heatmap(ids_ucb_2d, ax=ax2, cbar=True, cbar_ax=ax_bar, annot=np.round(ids_ucb_2d), **heatmap_kw)\n",
    "\n",
    "heatmap_kw['xticklabels'] = [r'$\\beta^{1/2}$']\n",
    "sns.heatmap(ids_wc_1d, ax=ax3, cbar=False, annot=np.round(ids_wc_1d), **heatmap_kw)\n",
    "sns.heatmap(ids_ucb_1d, ax=ax4, cbar=False, annot=np.round(ids_ucb_1d), **heatmap_kw)\n",
    "# UCB\n",
    "heatmap_kw['xticklabels'] = False\n",
    "sns.heatmap(ucb_1d, ax=ax5, cbar=False, annot=np.round(ucb_1d), **heatmap_kw)\n",
    "\n",
    "# sns.heatmap(ids_wc_ucb, linewidth=0.5, ax=ax3, vmin=vmin, vmax=vmax, cmap=cmap, annot=np.round(ids_wc_ucb),fmt='g')\n",
    "\n",
    "ax1.set_ylabel(r'$\\beta_s$')\n",
    "for ax in (ax1, ax2):\n",
    "    ax.set_xlabel(r'$1/\\eta_s$', x=0.65)\n",
    "ax_empty.axis('off')\n",
    "\n",
    "set_figure_params()\n",
    "fig.subplots_adjust(left=0.)\n",
    "ax1.set_title(f\"{t_IDS}-{t_IAWC}\", x=0.65)\n",
    "ax2.set_title(f\"{t_IDS}-{t_IAUCB}\", x=0.65)\n",
    "# ax3.set_title(\"IDS(DET)\")\n",
    "# ax4.set_title(\"IDS(UCB)\")\n",
    "ax5.set_title(t_UCB)\n",
    "# ax3.set_position([0,0,0,0])\n",
    "shift_axis(ax3, -0.015)\n",
    "shift_axis(ax4, -0.015)\n",
    "\n",
    "\n",
    "fig.savefig(os.path.join(PLOTDIR, 'asymptotics', f'tuning_{out5tuning}.pdf',), bbox_inches='tight', pad_inches=0.10)"
   ]
  },
  {
   "cell_type": "code",
   "execution_count": null,
   "metadata": {},
   "outputs": [],
   "source": [
    "\n",
    "\n",
    "\n",
    "    "
   ]
  },
  {
   "cell_type": "markdown",
   "metadata": {},
   "source": [
    "## Random & EOO (COLT)"
   ]
  },
  {
   "cell_type": "code",
   "execution_count": 31,
   "metadata": {},
   "outputs": [
    {
     "name": "stdout",
     "output_type": "stream",
     "text": [
      "Loaded 11 algorithms.\n",
      "Loaded 11 algorithms.\n"
     ]
    }
   ],
   "source": [
    "basedir = '../../runs-colt2021-final/'\n",
    "exp_name = \"simple_bandit_v0.1-1000000\"\n",
    "env, data_sb, extra_data = load_data(exp_name, basedir=basedir)\n",
    "\n",
    "exp_name = \"counter_example_v0.1_e0.01_a0.5-1000000\"\n",
    "env, data_eoo, extra_data = load_data(exp_name, basedir=basedir)"
   ]
  },
  {
   "cell_type": "code",
   "execution_count": 33,
   "metadata": {},
   "outputs": [
    {
     "name": "stdout",
     "output_type": "stream",
     "text": [
      "AsymptoticIDS-b2c5dc9ff796e860e40d581560e275e9\n",
      "AsymptoticIDS-857765119c7ccebb52b414a90ba7873d\n",
      "Solid-1d405251592737ce6dada92987a899a8\n",
      "Solid-324d4c4dd0978478d40625aae3ef8a5f\n",
      "UCB-c8e0d8c0efa2aee6b40ba0e261d53fe9\n",
      "AsymptoticIDS-b2c5dc9ff796e860e40d581560e275e9\n",
      "AsymptoticIDS-857765119c7ccebb52b414a90ba7873d\n",
      "Solid-1d405251592737ce6dada92987a899a8\n",
      "Solid-324d4c4dd0978478d40625aae3ef8a5f\n",
      "UCB-c8e0d8c0efa2aee6b40ba0e261d53fe9\n"
     ]
    },
    {
     "name": "stderr",
     "output_type": "stream",
     "text": [
      "<ipython-input-33-6dd74986a1ed>:60: UserWarning: You have mixed positional and keyword arguments, some input may be discarded.\n",
      "  lgd = fig.legend(lines,     # The line objects\n"
     ]
    },
    {
     "data": {
      "image/png": "[encoded data removed]",
      "text/plain": [
       "<Figure size 328.884x131.554 with 2 Axes>"
      ]
     },
     "metadata": {
      "needs_background": "light"
     },
     "output_type": "display_data"
    }
   ],
   "source": [
    "# two per figure plots\n",
    "fig, (ax1, ax2) = plt.subplots(ncols=2, figsize=(TEXTWIDTH, TEXTWIDTH/2.5))\n",
    "\n",
    "env = 'eoo'\n",
    "env = 'sb'\n",
    "\n",
    "if env == 'eoo':\n",
    "    data = data_eoo\n",
    "else:\n",
    "    data = data_sb\n",
    "    \n",
    "\n",
    "def exclude_fct(strategy_data):\n",
    "    args = strategy_data['args']\n",
    "    algorithm = strategy_data['algorithm']\n",
    "    if algorithm.startswith('_'):\n",
    "        return True\n",
    "    if algorithm == 'Solid' and args.get('solid_z0')==100:\n",
    "        return True\n",
    "    if algorithm == 'TS':\n",
    "        return True\n",
    "    if algorithm == 'AsymptoticIDS' and not args.get('ids_fast_info'):\n",
    "        return True  # Cells vs Halfspaces\n",
    "    \n",
    "\n",
    "plot_regret(data, ax1,  exclude_fct=exclude_fct, style_fct=style_fct, every=100, n0=0, n=10000)\n",
    "lines = plot_regret(data, ax2,  exclude_fct=exclude_fct, style_fct=style_fct, every=100,n0=10000, n=1000000)\n",
    "\n",
    "ax1.set_xlim(0, 10000)\n",
    "ax2.set_xlim(10000, 1000000)\n",
    "\n",
    "if env == 'eoo':\n",
    "    ax1.set_ylim(0, 50)\n",
    "    ax1.annotate(f\"{t_IDS}-{t_IAUCB} \\& {t_UCB}\", xy=(8000,22), \n",
    "                 xytext=(3000, 40),\n",
    "             arrowprops=dict(facecolor='black', arrowstyle='->'),\n",
    "            horizontalalignment='left', verticalalignment='bottom')\n",
    "\n",
    "else:\n",
    "    ax1.set_ylim(0,150)\n",
    "    ax2.set_ylim(0,300)\n",
    "    ax1.annotate(f\"{t_IDS}-\" + \"\\{\" + fr\"{t_IAWC}, {t_IAUCB}\" +\"\\},\" + \"\\n\" + fr\"{t_UCB}\" + r\" \\& \\textsc{SOLID++}\", xy=(8000,40), \n",
    "                 xytext=(4000, 60),\n",
    "             arrowprops=dict(facecolor='black', arrowstyle='->'),\n",
    "            horizontalalignment='left', verticalalignment='bottom')\n",
    "\n",
    "    \n",
    "\n",
    "\n",
    "ax2.set_xscale(\"log\")\n",
    "ax1.set_ylabel(t_REGRET)\n",
    "for ax in (ax1, ax2):\n",
    "    ax.set_xlabel('$n$')\n",
    "\n",
    "# if env == 'eoo':\n",
    "#     ax1.set_title(\"Random Action Sets\")\n",
    "# else:\n",
    "#     ax1.set_title(\"End of Optimism\")\n",
    "\n",
    "lgd = fig.legend(lines,     # The line objects\n",
    "           labels=[l[0].get_label() for l in lines],   # The labels for each line\n",
    "           loc=('lower center'),   # Position of legend\n",
    "           borderaxespad=0. , \n",
    "           bbox_to_anchor=(0.5,-0.1),# Small spacing around legend box\n",
    "           ncol=5,\n",
    "           fancybox=False,\n",
    "           frameon=False,\n",
    "           columnspacing=1.,\n",
    "          )\n",
    "\n",
    "set_figure_params()\n",
    "hide_spines(ax1, ax2)\n",
    "fig.subplots_adjust()\n",
    "fig.tight_layout()\n",
    "fig.savefig(os.path.join(PLOTDIR, 'asymptotics', f\"{env}.pdf\",), bbox_inches='tight', pad_inches=0.00)"
   ]
  },
  {
   "cell_type": "markdown",
   "metadata": {},
   "source": [
    "## Alternatives (COLT)"
   ]
  },
  {
   "cell_type": "code",
   "execution_count": 34,
   "metadata": {},
   "outputs": [
    {
     "name": "stdout",
     "output_type": "stream",
     "text": [
      "Loaded 7 algorithms.\n",
      "Loaded 7 algorithms.\n"
     ]
    }
   ],
   "source": [
    "basedir = '../../runs-thesis/5/cell/'\n",
    "exp_name = \"simple_bandit_d2_k6_v0.1-1000000\"\n",
    "env, data_sb, extra_data = load_data(exp_name, basedir=basedir)\n",
    "\n",
    "exp_name = \"counter_example_v0.1_e0.01_a0.5-1000000\"\n",
    "env, data_eoo, extra_data = load_data(exp_name, basedir=basedir)"
   ]
  },
  {
   "cell_type": "code",
   "execution_count": 35,
   "metadata": {},
   "outputs": [
    {
     "name": "stdout",
     "output_type": "stream",
     "text": [
      "IDS-02a7fe94b98f6159bbc1c80caf14d973\n",
      "IDS-daa613aecf5ba8fd35c25a94e6fc18a4\n",
      "IDS-93eb406ec6ca895149b87896bc561b6a\n",
      "IDS-23ba8212079dff87bdd35a794e77847d\n",
      "IDS-09f761a58991ce1ba2d16290ca4ec657\n",
      "IDS-0bf955ecabf35f570a34efcf1d6ebd17\n",
      "UCB-5183b355dd73a86d1b6b36195a139578\n",
      "IDS-3590e8330fc88fb5675f14beec539838\n",
      "IDS-3223df682f44bda7de8100292fd41a32\n",
      "IDS-63bfd0778f74730721993040f4e989c0\n",
      "IDS-ebb3a38bbb5ce5d64b94af5eb6d9ccac\n",
      "IDS-69dc8c40335f6e18e7a5ef65ff90343f\n",
      "IDS-cf4552bd3072bbb2bcda9153c2c71f85\n",
      "UCB-8de26bc3bb941fc38c4ab1306033ddd8\n"
     ]
    },
    {
     "data": {
      "image/png": "[encoded data removed]",
      "text/plain": [
       "<Figure size 328.884x131.554 with 2 Axes>"
      ]
     },
     "metadata": {
      "needs_background": "light"
     },
     "output_type": "display_data"
    }
   ],
   "source": [
    "# two per figure plots\n",
    "fig, (ax1, ax2) = plt.subplots(ncols=2, figsize=(TEXTWIDTH, TEXTWIDTH/2.5))\n",
    "\n",
    "\n",
    "def exclude_fct(strategy_data):\n",
    "    args = strategy_data['args']\n",
    "    algorithm = strategy_data['algorithm']\n",
    "    if algorithm.startswith('_'):\n",
    "        return True\n",
    "#     if algorithm == 'Solid' and args.get('solid_z0')==100:\n",
    "#         return True\n",
    "#     if algorithm == 'TS':\n",
    "#         return True\n",
    "#     if algorithm == 'AsymptoticIDS' and not args.get('ids_fast_info'):\n",
    "#         return True  # Cells vs Halfspaces\n",
    "    \n",
    "\n",
    "def style_mod(strategy_data,i):\n",
    "    args = strategy_data['args']\n",
    "    algorithm = strategy_data['algorithm']\n",
    "    styles = style_fct(strategy_data, i)\n",
    "    if args.get('ids_sampling') == 'full' and algorithm == 'IDS':\n",
    "        styles['label'] += fr'-{t_SFULL}'\n",
    "        styles['linestyle'] = ':'\n",
    "    elif args.get('ids_alternatives') == 'cell':\n",
    "        styles['label'] += r'-\\textsc{cell}'\n",
    "        styles['linestyle'] = '-.'\n",
    "    else:\n",
    "        styles['linestyle'] = '-'\n",
    "    return styles\n",
    "plot_regret(data_sb, ax1,  exclude_fct=exclude_fct, style_fct=style_mod, every=100, n0=0, n=10000)\n",
    "lines = plot_regret(data_eoo, ax2,  exclude_fct=exclude_fct, style_fct=style_mod, every=100)\n",
    "\n",
    "# for ax in (ax1, ax2):\n",
    "#     ax.set_xlim(n0,n)\n",
    "#     if asymptotic:\n",
    "#         ax.set_xscale(\"log\")\n",
    "#     else:\n",
    "#         ax.set_ylim(0,150)\n",
    "\n",
    "ax2.set_ylim(120, 240)\n",
    "ax1.set_xlim(0, 10000)\n",
    "ax1.set_ylabel(t_REGRET)\n",
    "\n",
    "for ax in (ax1, ax2):\n",
    "    ax.set_xlabel('$n$')\n",
    "\n",
    "ax1.set_title(\"Random Action Sets\")\n",
    "ax2.set_title(\"End of Optimism\")\n",
    "\n",
    "handles, labels = ax1.get_legend_handles_labels()\n",
    "handles = permute_list(handles, [1,0,5,3,4,2,6])\n",
    "labels = permute_list(labels, [1,0,5,3,4,2,6])\n",
    "\n",
    "lgd = fig.legend(handles,\n",
    "           labels,\n",
    "           loc=('lower center'),   # Position of legend\n",
    "           borderaxespad=0. , \n",
    "           bbox_to_anchor=(0.5,-0.15),# Small spacing around legend box\n",
    "           ncol=4,\n",
    "           fancybox=False,\n",
    "           frameon=False,\n",
    "           columnspacing=1.,\n",
    "          )\n",
    "\n",
    "set_figure_params()\n",
    "hide_spines(ax1, ax2)\n",
    "fig.subplots_adjust()\n",
    "fig.tight_layout()\n",
    "fig.savefig(os.path.join(PLOTDIR, 'asymptotics', f\"alternatives.pdf\",), bbox_inches='tight', pad_inches=0.00)"
   ]
  },
  {
   "cell_type": "markdown",
   "metadata": {},
   "source": [
    "## Bayesian & Runtime"
   ]
  },
  {
   "cell_type": "code",
   "execution_count": 36,
   "metadata": {},
   "outputs": [
    {
     "name": "stdout",
     "output_type": "stream",
     "text": [
      "Loaded 9 algorithms.\n",
      "Loaded 9 algorithms.\n"
     ]
    }
   ],
   "source": [
    "basedir = '../../runs-thesis/5/bayes/'\n",
    "exp_name = \"simple_bandit_d2_k6_v0.1-100000\"\n",
    "env, data_sb, extra_data = load_data(exp_name, basedir=basedir)\n",
    "\n",
    "exp_name = \"counter_example_v0.1_e0.01_a0.5-100000\"\n",
    "env, data_eoo, extra_data = load_data(exp_name, basedir=basedir)"
   ]
  },
  {
   "cell_type": "code",
   "execution_count": 37,
   "metadata": {},
   "outputs": [
    {
     "name": "stdout",
     "output_type": "stream",
     "text": [
      "IDS-621db37fb474cd694f60a5e1c8cf8fb6\n",
      "IDS-6990e81bd82125fd939165009658a612\n",
      "IDS-f32f424329c6e3ac738bbe7f4e936ea6\n",
      "IDS-efd65610bdc7e8beeaaa6b504c4dbf17\n",
      "IDS-5e1f60beef66bb8653a7e2a6a0f0213b\n",
      "TS-b6c6e71e19710c67baea050141a201b6\n",
      "UCB-241836059e406b9d9ea77886cdfc576d\n",
      "UCB-f4ad56ad6e18051bb7b8bc91991bc63f\n",
      "IDS-9a6a8e7a50513e69351d36ad0de46907\n",
      "IDS-aa07accaa7d2d7f43527e72e0b5370ab\n",
      "IDS-78f3c65e7da95c1ef9139f50564f965d\n",
      "IDS-71282352a3c89e5e65f60e5520f12834\n",
      "IDS-fcf7a201c990ee06b7b22a639f8a8630\n",
      "TS-e2b1e088ad1830b9db2d77b8f6aa7c30\n",
      "UCB-1fd4939a0e377ac1dcc65399ceb09dc5\n",
      "UCB-f1d429d6bac4b71dcd395a002d381c77\n",
      "IDS-621db37fb474cd694f60a5e1c8cf8fb6\n",
      "IDS-6990e81bd82125fd939165009658a612\n",
      "IDS-f32f424329c6e3ac738bbe7f4e936ea6\n",
      "IDS-efd65610bdc7e8beeaaa6b504c4dbf17\n",
      "IDS-5e1f60beef66bb8653a7e2a6a0f0213b\n",
      "TS-b6c6e71e19710c67baea050141a201b6\n",
      "UCB-241836059e406b9d9ea77886cdfc576d\n",
      "UCB-f4ad56ad6e18051bb7b8bc91991bc63f\n",
      "IDS-9a6a8e7a50513e69351d36ad0de46907\n",
      "IDS-aa07accaa7d2d7f43527e72e0b5370ab\n",
      "IDS-78f3c65e7da95c1ef9139f50564f965d\n",
      "IDS-71282352a3c89e5e65f60e5520f12834\n",
      "IDS-fcf7a201c990ee06b7b22a639f8a8630\n",
      "TS-e2b1e088ad1830b9db2d77b8f6aa7c30\n",
      "UCB-1fd4939a0e377ac1dcc65399ceb09dc5\n",
      "UCB-f1d429d6bac4b71dcd395a002d381c77\n"
     ]
    },
    {
     "data": {
      "image/png": "[encoded data removed]",
      "text/plain": [
       "<Figure size 328.884x131.554 with 2 Axes>"
      ]
     },
     "metadata": {
      "needs_background": "light"
     },
     "output_type": "display_data"
    }
   ],
   "source": [
    "# two per figure plots\n",
    "fig, (ax1, ax2) = plt.subplots(ncols=2, figsize=(TEXTWIDTH, TEXTWIDTH/2.5))\n",
    "\n",
    "\n",
    "def exclude_fct(strategy_data):\n",
    "    args = strategy_data['args']\n",
    "    algorithm = strategy_data['algorithm']\n",
    "    if algorithm.startswith('_'):\n",
    "        return True\n",
    "    # Bayesian Algorithms get real priors\n",
    "    if algorithm == 'TS' or (algorithm == 'IDS' and args['ids_info'] == 'VarInfoGain'):\n",
    "        if not args.get('lls_scale_obs'):\n",
    "            return True\n",
    "    if algorithm == 'IDS':\n",
    "        if args['ids_info'] == 'VarInfoGain' and args['ids_sampling'] == 'fast':\n",
    "            return True\n",
    "#     if algorithm == 'IDS' and args['ids_info'] == 'AsymptoticInfoGain' and args['ids_info_correction'] == 'worst_case':\n",
    "#         return True\n",
    "\n",
    "    \n",
    "def style_mod(strategy_data, i):\n",
    "    args = strategy_data['args']\n",
    "    algorithm = strategy_data['algorithm']\n",
    "    styles = style_fct(strategy_data, i)\n",
    "    if algorithm == 'UCB' and args.get('lls_beta'):\n",
    "        styles['label'] = r'\\textsc{UCB-tuned}'\n",
    "        styles['linestyle'] = ':'\n",
    "    if algorithm == 'IDS':\n",
    "        if args.get('lls_beta'):\n",
    "            styles['label']  += r'-\\textsc{tuned}'\n",
    "            styles['linestyle'] = ':'\n",
    "        else:\n",
    "            styles['linestyle'] = '-'\n",
    "    return styles\n",
    "\n",
    " \n",
    "plot_regret(data_sb, ax1,  exclude_fct=exclude_fct, style_fct=style_mod, every=100)\n",
    "lines = plot_regret(data_eoo, ax2,  exclude_fct=exclude_fct, style_fct=style_mod, every=100)\n",
    "\n",
    "for ax in (ax1, ax2):\n",
    "    ax.set_xlabel(r'$n$')\n",
    "    ax.set_xlim(0,100000)\n",
    "\n",
    "ax1.set_ylabel(t_REGRET)\n",
    "ax1.set_title(\"Random Action Sets\")\n",
    "ax2.set_title(\"End of Optimism\")\n",
    "ax1.set_ylim(0,100)\n",
    "ax2.set_ylim(0,200)\n",
    "\n",
    "ax1i= ax1.inset_axes([0.5, 0.0, 0.5, 0.45])\n",
    "ax1i.set_xticklabels([])\n",
    "ax1i.set_xticks([])\n",
    "ax1i.set_xlim(50000, 100000)\n",
    "ax1i.set_ylim(0, 25)\n",
    "ax1i.set_yticks([20])\n",
    "plot_regret(data_sb, ax1i,  exclude_fct=exclude_fct, style_fct=style_mod, every=100)\n",
    "\n",
    "ax2i= ax2.inset_axes([0.5, 0.0, 0.5, 0.45])\n",
    "ax2i.set_xticklabels([])\n",
    "ax2i.set_xticks([])\n",
    "ax2i.set_xlim(50000, 100000)\n",
    "ax2i.set_ylim(0, 50)\n",
    "ax2i.set_yticks([40])\n",
    "plot_regret(data_eoo, ax2i,  exclude_fct=exclude_fct, style_fct=style_mod, every=100)\n",
    "\n",
    "\n",
    "perm = [4,3,2,1,0,5,7,6]\n",
    "handles, labels = ax1.get_legend_handles_labels()\n",
    "handles = permute_list(handles, perm)\n",
    "labels = permute_list(labels, perm)\n",
    "\n",
    "lgd = fig.legend(handles,\n",
    "           labels,\n",
    "           loc=('lower center'),   # Position of legend\n",
    "           borderaxespad=0. , \n",
    "           bbox_to_anchor=(0.5,-0.15),# Small spacing around legend box\n",
    "           ncol=4,\n",
    "           fancybox=False,\n",
    "           frameon=False,\n",
    "           columnspacing=1.,\n",
    "          )\n",
    "\n",
    "\n",
    "set_figure_params()\n",
    "hide_spines(ax1, ax2)\n",
    "hide_spines(ax1i, ax2i, top=False)\n",
    "fig.subplots_adjust()\n",
    "fig.tight_layout()\n",
    "fig.savefig(os.path.join(PLOTDIR, 'asymptotics', f\"bayesian.pdf\",), bbox_inches='tight', pad_inches=0.00)"
   ]
  },
  {
   "cell_type": "markdown",
   "metadata": {},
   "source": [
    "## Runtime"
   ]
  },
  {
   "cell_type": "code",
   "execution_count": 38,
   "metadata": {},
   "outputs": [
    {
     "name": "stdout",
     "output_type": "stream",
     "text": [
      "Loaded 8 algorithms.\n",
      "Loaded 8 algorithms.\n"
     ]
    }
   ],
   "source": [
    "basedir = '../../runs-thesis-shallow/time/'\n",
    "exp_name = \"simple_bandit_d2_k6_v0.1-100000\"\n",
    "env, data_k6, extra_data = load_data(exp_name, basedir=basedir)\n",
    "exp_name = \"simple_bandit_d5_k50_v0.1-100000\"\n",
    "env, data_k50, extra_data = load_data(exp_name, basedir=basedir)\n",
    "\n"
   ]
  },
  {
   "cell_type": "code",
   "execution_count": 39,
   "metadata": {},
   "outputs": [
    {
     "name": "stdout",
     "output_type": "stream",
     "text": [
      "\\textsc{Bayes-IDS}-$I^{VAR}$-\\textsc{fast} \\textsc{Bayes-IDS}-$I^{VAR}$-\\textsc{fast}\n",
      "\\textsc{Bayes-IDS}-$I^{VAR}$ \\textsc{Bayes-IDS}-$I^{VAR}$\n",
      "\\textsc{IDS}-$I^{DET}$-\\textsc{fast} \\textsc{IDS}-$I^{DET}$-\\textsc{fast}\n",
      "\\textsc{IDS}-$I^{DET}$ \\textsc{IDS}-$I^{DET}$\n",
      "\\textsc{IDS}-$I^{A-UCB}$-\\textsc{fast} \\textsc{IDS}-$I^{A-UCB}$-\\textsc{fast}\n",
      "\\textsc{IDS}-$I^{A-UCB}$ \\textsc{IDS}-$I^{A-UCB}$\n",
      "\\textsc{TS} \\textsc{TS}\n",
      "\\textsc{UCB} \\textsc{UCB}\n",
      "\\textsc{Bayes-IDS}-$I^{VAR}$-\\textsc{fast} & $544.4$&$\\pm69.7$ & $1771.9$&$\\pm40.5$\\\\\n",
      " \\textsc{Bayes-IDS}-$I^{VAR}$ & $561.7$&$\\pm58.8$ & $2560.0$&$\\pm78.4$\\\\\n",
      " \\textsc{IDS}-$I^{DET}$-\\textsc{fast} & $42.0$&$\\pm9.7$ & $76.1$&$\\pm19.6$\\\\\n",
      " \\textsc{IDS}-$I^{DET}$ & $52.7$&$\\pm11.6$ & $888.5$&$\\pm75.6$\\\\\n",
      " \\textsc{IDS}-$I^{A-UCB}$-\\textsc{fast} & $45.7$&$\\pm18.8$ & $106.8$&$\\pm28.6$\\\\\n",
      " \\textsc{IDS}-$I^{A-UCB}$ & $50.5$&$\\pm22.6$ & $798.5$&$\\pm233.5$\\\\\n",
      " \\textsc{TS} & $21.6$&$\\pm5.9$ & $22.2$&$\\pm6.9$\\\\\n",
      " \\textsc{UCB} & $26.9$&$\\pm7.7$ & $23.9$&$\\pm5.7$\\\\\n",
      " \n"
     ]
    }
   ],
   "source": [
    "# table = ''\n",
    "# for strategy, strategy_data in data.items():\n",
    "#     table += f\"{style_fct(strategy_data,0)['label']}\" + ' & '\n",
    "\n",
    "# table = table[:-2]\n",
    "# table += '\\\\\\\\\\n'\n",
    "# for strategy, strategy_data in data.items():\n",
    "#     table += f\"${strategy_data['time'][0][0]:.1f}\\pm{strategy_data['time'][0][1]:.1f}$\" + ' & '\n",
    "\n",
    "def style_mod(strategy_data, i):\n",
    "    args = strategy_data['args']\n",
    "    algorithm = strategy_data['algorithm']\n",
    "    styles = style_fct(strategy_data, i)\n",
    "    sampling = args.get('ids_sampling')\n",
    "    if algorithm not in ['UCB', 'TS'] and sampling != 'full':\n",
    "        styles['label'] += r'-\\textsc{fast}'\n",
    "    return styles\n",
    "\n",
    "table = ''\n",
    "for (s_k6, d_k6), (s_k50, d_k50) in zip(data_k6.items(), data_k50.items()):\n",
    "    l_k6 = style_mod(d_k6,0)['label']\n",
    "    l_k50 = style_mod(d_k50,0)['label']\n",
    "    print(l_k6, l_k50)\n",
    "\n",
    "    if l_k6 != l_k50:\n",
    "        print(\"WARNING: ORDER NOT MATCHING\")\n",
    "    table += f\"{l_k6}\" + ' & ' +\\\n",
    "        f\"${d_k6['time'][0][0]:.1f}$&$\\pm{d_k6['time'][0][1]:.1f}$\" + ' & ' +\\\n",
    "        f\"${d_k50['time'][0][0]:.1f}$&$\\pm{d_k50['time'][0][1]:.1f}$\" + '\\\\\\\\\\n '\n",
    "\n",
    "print(table)"
   ]
  },
  {
   "cell_type": "markdown",
   "metadata": {},
   "source": [
    "## Infogain plot"
   ]
  },
  {
   "cell_type": "code",
   "execution_count": 40,
   "metadata": {},
   "outputs": [
    {
     "name": "stderr",
     "output_type": "stream",
     "text": [
      "<ipython-input-40-79dc0417ccdd>:20: UserWarning: Matplotlib is currently using module://ipykernel.pylab.backend_inline, which is a non-GUI backend, so cannot show the figure.\n",
      "  fig.show()\n"
     ]
    },
    {
     "data": {
      "image/png": "[encoded data removed]",
      "text/plain": [
       "<Figure size 432x288 with 1 Axes>"
      ]
     },
     "metadata": {
      "needs_background": "light"
     },
     "output_type": "display_data"
    }
   ],
   "source": [
    "out = np.load('../infogain.npy')\n",
    "info1 = out[0]\n",
    "info2 = out[1]\n",
    "\n",
    "def plot_info(info1, axis, linestyle='-'):\n",
    "    for i,I in enumerate(info1.T):\n",
    "        axis.plot(I, label=f\"{i}\", linestyle=linestyle, color=COLORS[2*i])\n",
    "        \n",
    "        \n",
    "fig, axis = plt.subplots(1,1)\n",
    "\n",
    "plot_info(info1, axis)\n",
    "\n",
    "# info2 = 1/info2\n",
    "# info2 = (info2.T / np.sum(info2, axis=1)).T\n",
    "# print(info2[49])\n",
    "plot_info(info2, axis, linestyle=':')\n",
    "axis.set_ylim(-0.3,1)\n",
    "\n",
    "fig.show()"
   ]
  },
  {
   "cell_type": "code",
   "execution_count": null,
   "metadata": {},
   "outputs": [],
   "source": []
  },
  {
   "cell_type": "code",
   "execution_count": 41,
   "metadata": {},
   "outputs": [
    {
     "name": "stdout",
     "output_type": "stream",
     "text": [
      "Loaded 1 algorithms.\n"
     ]
    },
    {
     "data": {
      "text/plain": [
       "'IDS-1562e314f5fbad053add36ec0bde13f9'"
      ]
     },
     "execution_count": 41,
     "metadata": {},
     "output_type": "execute_result"
    }
   ],
   "source": [
    "basedir = '../../runs-thesis-shallow/info/'\n",
    "exp_name = \"simple_bandit_d3_k5_v1.0_s5-500\"\n",
    "# exp_name = \"simple_bandit_d2_k4_v0.1_s1-10000\"\n",
    "# exp_name = \"simple_bandit_d3_k5_v0.1_s2-10000\"\n",
    "\n",
    "exp_name = \"counter_example_v0.1_e0.01_a0.5-2000\"\n",
    "\n",
    "# exp_name = \"camelback-500\"\n",
    "\n",
    "env, data, extra_data = load_data(exp_name, basedir=basedir)\n",
    "# extra_data\n",
    "list(extra_data)[0]"
   ]
  },
  {
   "cell_type": "code",
   "execution_count": 42,
   "metadata": {},
   "outputs": [
    {
     "ename": "IndexError",
     "evalue": "list index out of range",
     "output_type": "error",
     "traceback": [
      "\u001b[0;31m---------------------------------------------------------------------------\u001b[0m",
      "\u001b[0;31mIndexError\u001b[0m                                Traceback (most recent call last)",
      "\u001b[0;32m<ipython-input-42-11bc2c43843a>\u001b[0m in \u001b[0;36m<module>\u001b[0;34m\u001b[0m\n\u001b[1;32m     26\u001b[0m \u001b[0mfig\u001b[0m\u001b[0;34m,\u001b[0m \u001b[0maxes\u001b[0m \u001b[0;34m=\u001b[0m \u001b[0mplt\u001b[0m\u001b[0;34m.\u001b[0m\u001b[0msubplots\u001b[0m\u001b[0;34m(\u001b[0m\u001b[0;36m6\u001b[0m\u001b[0;34m,\u001b[0m \u001b[0mfigsize\u001b[0m\u001b[0;34m=\u001b[0m\u001b[0;34m(\u001b[0m\u001b[0;36m5\u001b[0m\u001b[0;34m,\u001b[0m\u001b[0;36m15\u001b[0m\u001b[0;34m)\u001b[0m\u001b[0;34m)\u001b[0m\u001b[0;34m\u001b[0m\u001b[0;34m\u001b[0m\u001b[0m\n\u001b[1;32m     27\u001b[0m \u001b[0;34m\u001b[0m\u001b[0m\n\u001b[0;32m---> 28\u001b[0;31m \u001b[0malgo\u001b[0m \u001b[0;34m=\u001b[0m \u001b[0mlist\u001b[0m\u001b[0;34m(\u001b[0m\u001b[0mextra_data\u001b[0m\u001b[0;34m)\u001b[0m\u001b[0;34m[\u001b[0m\u001b[0mnum\u001b[0m\u001b[0;34m]\u001b[0m\u001b[0;34m\u001b[0m\u001b[0;34m\u001b[0m\u001b[0m\n\u001b[0m\u001b[1;32m     29\u001b[0m \u001b[0minfo_data\u001b[0m \u001b[0;34m=\u001b[0m \u001b[0mextra_data\u001b[0m\u001b[0;34m[\u001b[0m\u001b[0malgo\u001b[0m\u001b[0;34m]\u001b[0m\u001b[0;34m[\u001b[0m\u001b[0mrep\u001b[0m\u001b[0;34m]\u001b[0m\u001b[0;34m.\u001b[0m\u001b[0mto_dict\u001b[0m\u001b[0;34m(\u001b[0m\u001b[0morient\u001b[0m\u001b[0;34m=\u001b[0m\u001b[0;34m'list'\u001b[0m\u001b[0;34m)\u001b[0m\u001b[0;34m\u001b[0m\u001b[0;34m\u001b[0m\u001b[0m\n\u001b[1;32m     30\u001b[0m \u001b[0mfig\u001b[0m\u001b[0;34m.\u001b[0m\u001b[0msuptitle\u001b[0m\u001b[0;34m(\u001b[0m\u001b[0mdata\u001b[0m\u001b[0;34m[\u001b[0m\u001b[0malgo\u001b[0m\u001b[0;34m]\u001b[0m\u001b[0;34m[\u001b[0m\u001b[0;34m'args'\u001b[0m\u001b[0;34m]\u001b[0m\u001b[0;34m[\u001b[0m\u001b[0;34m'ids_info'\u001b[0m\u001b[0;34m]\u001b[0m\u001b[0;34m)\u001b[0m\u001b[0;34m\u001b[0m\u001b[0;34m\u001b[0m\u001b[0m\n",
      "\u001b[0;31mIndexError\u001b[0m: list index out of range"
     ]
    },
    {
     "data": {
      "image/png": "[encoded data removed]",
      "text/plain": [
       "<Figure size 360x1080 with 6 Axes>"
      ]
     },
     "metadata": {
      "needs_background": "light"
     },
     "output_type": "display_data"
    }
   ],
   "source": [
    "num = 1\n",
    "rep = 1\n",
    "def plot_info_gain(data, axes):\n",
    "    d = len(axes)\n",
    "    colors = dict()\n",
    "    \n",
    "    lines = []\n",
    "    for col, col_data in data.items():\n",
    "        name, coord = col.rsplit('_', maxsplit=1)\n",
    "        if name in ['info_mi_sample', 'info_var']:\n",
    "            continue\n",
    "        if 'cell' in name: #or 'laplace' in name:\n",
    "            continue\n",
    "        coord = int(coord)\n",
    "        if not name in colors:\n",
    "            colors[name] = COLORS[len(colors)]\n",
    "        \n",
    "#         print(col_data)\n",
    "#         print(colors[name])\n",
    "        axes[coord].plot(col_data, color=colors[name], label=name.replace('_', ' '))\n",
    "        axes[coord].set_title(f\"Coordinate {coord + 1}\")\n",
    "        \n",
    "    \n",
    "    \n",
    "\n",
    "fig, axes = plt.subplots(6, figsize=(5,15))\n",
    "\n",
    "algo = list(extra_data)[num]\n",
    "info_data = extra_data[algo][rep].to_dict(orient='list')\n",
    "fig.suptitle(data[algo]['args']['ids_info'])\n",
    "plot_info_gain(info_data, axes)\n",
    "for axis in axes:\n",
    "    axis.set_ylim(-0.3,1.)\n",
    "#     axis.set_xlim(0,1000)\n",
    "axes[0].legend()\n",
    "fig.savefig(os.path.join('../../plots/thesis/', f'infogain_{num}_{rep}_{exp_name}.pdf',), bbox_inches='tight', pad_inches=0.00)"
   ]
  },
  {
   "cell_type": "markdown",
   "metadata": {},
   "source": [
    "## InfoGain EOO"
   ]
  },
  {
   "cell_type": "code",
   "execution_count": null,
   "metadata": {},
   "outputs": [],
   "source": []
  },
  {
   "cell_type": "code",
   "execution_count": 43,
   "metadata": {},
   "outputs": [
    {
     "name": "stdout",
     "output_type": "stream",
     "text": [
      "\\textsc{IDS}-$I^{A}$\n",
      "info_mi_sample\n",
      "info_worst_case\n",
      "info_worst_case=,\n",
      "info_ucb\n",
      "info_ucb=,\n",
      "info_var\n",
      "info_var=,\n",
      "info_asymptotic_half_wc\n",
      "info_asymptotic_half_ucb\n",
      "info_asymptotic_half_wc_cell\n",
      "info_asymptotic_half_wc_cell=,\n",
      "info_asymptotic_half_ucb_cell\n",
      "info_asymptotic_half_ucb_cell=,\n",
      "info_asymptotic_half_laplace\n",
      "info_mi_sample\n",
      "info_worst_case\n",
      "info_worst_case=,\n",
      "info_ucb\n",
      "info_ucb=,\n",
      "info_var\n",
      "info_var=,\n",
      "info_asymptotic_half_wc\n",
      "info_asymptotic_half_ucb\n",
      "info_asymptotic_half_wc_cell\n",
      "info_asymptotic_half_wc_cell=,\n",
      "info_asymptotic_half_ucb_cell\n",
      "info_asymptotic_half_ucb_cell=,\n",
      "info_asymptotic_half_laplace\n",
      "info_mi_sample\n",
      "info_worst_case\n",
      "info_worst_case=,\n",
      "info_ucb\n",
      "info_ucb=,\n",
      "info_var\n",
      "info_var=,\n",
      "info_asymptotic_half_wc\n",
      "info_asymptotic_half_ucb\n",
      "info_asymptotic_half_wc_cell\n",
      "info_asymptotic_half_wc_cell=,\n",
      "info_asymptotic_half_ucb_cell\n",
      "info_asymptotic_half_ucb_cell=,\n",
      "info_asymptotic_half_laplace\n"
     ]
    },
    {
     "name": "stderr",
     "output_type": "stream",
     "text": [
      "<ipython-input-43-6d4dde5c808c>:64: UserWarning: You have mixed positional and keyword arguments, some input may be discarded.\n",
      "  lgd = fig.legend(lines,     # The line objects\n"
     ]
    },
    {
     "data": {
      "image/png": "[encoded data removed]",
      "text/plain": [
       "<Figure size 328.884x109.628 with 3 Axes>"
      ]
     },
     "metadata": {
      "needs_background": "light"
     },
     "output_type": "display_data"
    }
   ],
   "source": [
    "algo = list(extra_data)[0]\n",
    "rep=1\n",
    "info_data = extra_data[algo][rep].to_dict(orient='list')\n",
    "print(style_fct(data[algo],0 )['label'])\n",
    "\n",
    "fig, axes = plt.subplots(ncols=3, figsize=(TEXTWIDTH, TEXTWIDTH/3.))\n",
    "(ax1, ax2, ax3) = axes\n",
    "\n",
    "INFOLABELS = dict(\n",
    "    info_worst_case=dict(label=t_IDET, linestyle=':', color=COLORS[0], zorder=10),\n",
    "    info_ucb=dict(label=t_IUCB, linestyle=':', color=COLORS[1]),\n",
    "    info_var=dict(label=t_IVAR, color=COLORS[2], linestyle='-.', zorder=10),\n",
    "    info_asymptotic_half_wc_cell=dict(label=t_IACELL, color=COLORS[3], linestyle='-', zorder=10),\n",
    "    info_asymptotic_half_ucb_cell=dict(label=t_IAUCBCELL, color=COLORS[4], linestyle='-', zorder=2),\n",
    "#     info_asymptotic_half_laplace=dict(label=t_IAUCBCELL, color=COLORS[4], linestyle='-', zorder=2),\n",
    ")\n",
    "\n",
    "\n",
    "def plot_info_coord(axes, coord, data):\n",
    "    d = len(axes)\n",
    "    colors = dict()\n",
    "    \n",
    "    lines = []\n",
    "    for col, col_data in data.items():\n",
    "        name, _coord = col.rsplit('_', maxsplit=1)\n",
    "        if int(_coord) != coord:\n",
    "            continue\n",
    "        print(name)\n",
    "        if not name in INFOLABELS:\n",
    "            continue\n",
    "        coord = int(coord)\n",
    "        if not name in colors:\n",
    "            colors[name] = COLORS[len(colors)]\n",
    "        print(f\"{name}=,\")\n",
    "        \n",
    "#         print(col_data)\n",
    "#         print(colors[name])\n",
    "        for ax in axes:\n",
    "            lines.append(ax.plot(col_data, **INFOLABELS[name],linewidth=1.))\n",
    "#         axes[coord].set_title(f\"Coordinate {coord + 1}\")\n",
    "    return lines\n",
    "plot_info_coord([ax1], 0, info_data)\n",
    "plot_info_coord([ax2], 1, info_data)\n",
    "lines = plot_info_coord([ax3], 2, info_data)\n",
    "\n",
    "\n",
    "# ax1.set_xticks([0,50, 100])\n",
    "hide_spines(*axes)\n",
    "\n",
    "for ax in axes[1:]:\n",
    "    ax.set_yticklabels([])\n",
    "for i, ax in enumerate(axes):\n",
    "    ax.set_ylim(-0.03,1.01)\n",
    "    ax.set_xlim(-5,1000)\n",
    "    ax.set_title(fr\"$a_{i+1}$\")\n",
    "    ax.set_xlabel('$t$')\n",
    "#     ax.set_xlabel('$t$', x=1, labelpad=-8)\n",
    "\n",
    "    \n",
    "ax1.set_ylabel(r'$I_t(a)$')\n",
    "\n",
    "set_figure_params()\n",
    "\n",
    "lgd = fig.legend(lines,     # The line objects\n",
    "           labels=[l[0].get_label() for l in lines],   # The labels for each line\n",
    "           loc=('lower center'),   # Position of legend\n",
    "           borderaxespad=0. , \n",
    "           bbox_to_anchor=(0.5,-.1),# Small spacing around legend box\n",
    "           ncol=5,\n",
    "           fancybox=False,\n",
    "           frameon=False,\n",
    "           columnspacing=2.5\n",
    "          )\n",
    "fig.tight_layout()\n",
    "fig.savefig(os.path.join(PLOTDIR, 'asymptotics', 'infogain_eoo.pdf',), bbox_inches='tight', pad_inches=0.00)"
   ]
  },
  {
   "cell_type": "markdown",
   "metadata": {},
   "source": [
    "# Chapter 6"
   ]
  },
  {
   "cell_type": "code",
   "execution_count": null,
   "metadata": {},
   "outputs": [],
   "source": []
  },
  {
   "cell_type": "markdown",
   "metadata": {},
   "source": [
    "## Random Dueling"
   ]
  },
  {
   "cell_type": "code",
   "execution_count": 44,
   "metadata": {},
   "outputs": [
    {
     "name": "stdout",
     "output_type": "stream",
     "text": [
      "Loaded 10 algorithms.\n"
     ]
    }
   ],
   "source": [
    "basedir = '../../runs-thesis/6/'\n",
    "exp_name = \"random_dueling_d3_k20_v0.1-10000\"\n",
    "exp_name = \"random_dueling_d2_k6_v0.1-10000\"\n",
    "\n",
    "\n",
    "env, data_dueling_random, extra_data = load_data(exp_name, basedir=basedir)"
   ]
  },
  {
   "cell_type": "markdown",
   "metadata": {},
   "source": [
    "## Localized Dueling"
   ]
  },
  {
   "cell_type": "code",
   "execution_count": 45,
   "metadata": {},
   "outputs": [
    {
     "name": "stdout",
     "output_type": "stream",
     "text": [
      "Loaded 9 algorithms.\n"
     ]
    }
   ],
   "source": [
    "basedir = '../../runs-thesis/6/'\n",
    "# exp_name = \"localized_dueling_d5_v0.1-10000\"\n",
    "exp_name = \"localized_dueling_d3_v0.1-10000\"\n",
    "\n",
    "env, data_dueling_localized, extra_data = load_data(exp_name, basedir=basedir)"
   ]
  },
  {
   "cell_type": "code",
   "execution_count": 46,
   "metadata": {},
   "outputs": [
    {
     "name": "stdout",
     "output_type": "stream",
     "text": [
      "GCB-9aa3eb0dac69ae0e8865efb2705ad2c4\n",
      "IDS-8c4560213a9e9e18c1aa4298aa31811b\n",
      "IDS-9db876036f3bea5163d41f93a3fb0caf\n",
      "MaxInP-9d2b570084c2ff17d2f7d1eab00c3907\n",
      "PEGE-81040c4c93ef283b9155c5f9b23569dc\n",
      "PEGE-e6b58cecc5babad7029c4670c2f9a067\n",
      "GCB-9c9aecc375d4dc169b9ec2526a56c0cf\n",
      "IDS-df15bf15588dcca325b466c6837feb1b\n",
      "IDS-03fbaa28e70ac8ea674b40d759a5bfc5\n",
      "PEGE-7e48bf428465209738662a65f0ddc4a9\n",
      "PEGE-038fdffedbba4d7b4fbfe57cdba00526\n",
      "GCB-9aa3eb0dac69ae0e8865efb2705ad2c4\n",
      "IDS-8c4560213a9e9e18c1aa4298aa31811b\n",
      "IDS-9db876036f3bea5163d41f93a3fb0caf\n",
      "MaxInP-9d2b570084c2ff17d2f7d1eab00c3907\n",
      "PEGE-81040c4c93ef283b9155c5f9b23569dc\n",
      "PEGE-e6b58cecc5babad7029c4670c2f9a067\n"
     ]
    },
    {
     "data": {
      "image/png": "[encoded data removed]",
      "text/plain": [
       "<Figure size 328.884x121.809 with 2 Axes>"
      ]
     },
     "metadata": {
      "needs_background": "light"
     },
     "output_type": "display_data"
    }
   ],
   "source": [
    "# two per figure plots\n",
    "fig, (ax1, ax2) = plt.subplots(ncols=2, figsize=(TEXTWIDTH, TEXTWIDTH/2.7))\n",
    "\n",
    "\n",
    "def exclude_fct(strategy_data):\n",
    "    args = strategy_data['args']\n",
    "    algorithm = strategy_data['algorithm']\n",
    "    if algorithm.startswith('_'):\n",
    "        return True\n",
    "    if algorithm == 'IDS':\n",
    "        if args.get('lls_beta') or args['ids_info'] == 'AsymptoticInfoGain':\n",
    "            return True\n",
    "\n",
    "    \n",
    "def style_mod(strategy_data, i):\n",
    "    args = strategy_data['args']\n",
    "    algorithm = strategy_data['algorithm']\n",
    "    styles = style_fct(strategy_data, i)\n",
    "#     if algorithm == 'UCB' and args.get('lls_beta'):\n",
    "#         styles['label'] = 'UCB-Tuned'\n",
    "#         styles['linestyle'] = '-.'\n",
    "    if algorithm == 'IDS':\n",
    "        if args['ids_info'] == 'AsymptoticInfoGain':\n",
    "            styles['color'] = COLORS[4]\n",
    "        if args.get('lls_beta'):\n",
    "            styles['label'] = styles['label'].replace('IDS', 'IDS-Tuned')\n",
    "#         else:\n",
    "        styles['linestyle'] = '-'\n",
    "    return styles\n",
    "\n",
    " \n",
    "lines = plot_regret(data_dueling_random, ax1,  exclude_fct=exclude_fct, style_fct=style_mod)\n",
    "\n",
    "plot_regret(data_dueling_localized, ax2,  exclude_fct=exclude_fct, style_fct=style_mod)\n",
    "\n",
    "for ax in (ax1, ax2):\n",
    "#     ax.set_yscale('log')\n",
    "    ax.set_xlim(0,10000)\n",
    "    ax.set_xlabel(r'$n$')\n",
    "\n",
    "ax1.set_title(\"Random Dueling Bandit\")\n",
    "ax2.set_title(\"Localized Dueling Bandit\")\n",
    "ax1.set_yscale('log')\n",
    "ax1.set_ylabel(t_REGRET)\n",
    "\n",
    "axins = ax1.inset_axes([0.5, 0.08, 0.5, 0.3])\n",
    "axins.set_xticklabels([])\n",
    "axins.set_xticks([])\n",
    "axins.set_xlim(5000, 10000)\n",
    "axins.set_ylim(40, 130)\n",
    "plot_regret(data_dueling_random, axins,  exclude_fct=exclude_fct, style_fct=style_mod)\n",
    "\n",
    "\n",
    "handles, labels = ax1.get_legend_handles_labels()\n",
    "handles = permute_list(handles, [2,1,0,3,4,5])\n",
    "labels = permute_list(labels, [2,1,0,3,4,5])\n",
    "\n",
    "lgd = fig.legend(handles,\n",
    "           labels,\n",
    "           loc=('lower center'),   # Position of legend\n",
    "           borderaxespad=0. , \n",
    "           bbox_to_anchor=(0.5,-0.2),# Small spacing around legend box\n",
    "           ncol=3,\n",
    "           fancybox=False,\n",
    "           frameon=False,\n",
    "           columnspacing=1.,\n",
    "          )\n",
    "\n",
    "set_figure_params()\n",
    "hide_spines(ax1, ax2)\n",
    "hide_spines(axins, left=False, top=False)\n",
    "# fig.subplots_adjust()\n",
    "fig.subplots_adjust(left=0.)\n",
    "\n",
    "\n",
    "ax2.annotate(f\"{t_IDS}-\" + \"\\{\" + fr\"{t_IDET}, {t_IPM}\" +\"\\}\", xy=(8000,1600),  xytext=(5500, 750),\n",
    "             arrowprops=dict(facecolor='black', arrowstyle='->'),\n",
    "            horizontalalignment='left', verticalalignment='bottom')\n",
    "\n",
    "fig.tight_layout()\n",
    "fig.savefig(os.path.join(PLOTDIR, 'pm', f\"dueling.pdf\",), bbox_inches='tight', pad_inches=0.00)"
   ]
  },
  {
   "cell_type": "markdown",
   "metadata": {},
   "source": [
    "# Chapter 7"
   ]
  },
  {
   "cell_type": "markdown",
   "metadata": {},
   "source": [
    "## Random Contextual"
   ]
  },
  {
   "cell_type": "code",
   "execution_count": 47,
   "metadata": {},
   "outputs": [
    {
     "name": "stdout",
     "output_type": "stream",
     "text": [
      "Loaded 6 algorithms.\n"
     ]
    }
   ],
   "source": [
    "basedir = '../..'\n",
    "exp_name = \"runs-thesis/7/contextual_simple_bandit_d4_k5_l3_v0.1-10000\"\n",
    "exp_name = \"runs-thesis/7/contextual_simple_bandit_d4_k20_l5_v0.1-10000\"\n",
    "\n",
    "env, data_context, extra_data = load_data(exp_name, basedir=basedir)"
   ]
  },
  {
   "cell_type": "markdown",
   "metadata": {},
   "source": [
    "## Icecream"
   ]
  },
  {
   "cell_type": "code",
   "execution_count": 48,
   "metadata": {},
   "outputs": [
    {
     "name": "stdout",
     "output_type": "stream",
     "text": [
      "Loaded 12 algorithms.\n"
     ]
    }
   ],
   "source": [
    "basedir = '../..'\n",
    "# exp_name = \"runs-thesis/7/icecream_10-10000\"\n",
    "exp_name = \"runs-thesis/7/icecream_5-10000\"\n",
    "\n",
    "env, data_icecream, extra_data = load_data(exp_name, basedir=basedir)"
   ]
  },
  {
   "cell_type": "code",
   "execution_count": 51,
   "metadata": {},
   "outputs": [
    {
     "name": "stdout",
     "output_type": "stream",
     "text": [
      "IDS-9701166c32cf9b18e51a3f5a6f619a33\n",
      "IDS-a013ee819aaa81a52079a70cbcd2764a\n",
      "IDS-98a89550f46b74468a5b6194148bacff\n",
      "IDS-e50fa6d0ebdcc3fac40dfad8eeafce0b\n",
      "IDS-dcf89355ffbaebaf78ebe7886d9a62a5\n",
      "IDS-0a7254854126ba2b07746c78c282e554\n",
      "IDS-f8e885e1df7ee91489517904533317bc\n",
      "IDS-8a2a4a4d57cf4e67960e913b9b4d1ecf\n",
      "IDS-dd4a06fae5fbcbcdab61159bc631a3a2\n"
     ]
    },
    {
     "data": {
      "image/png": "[encoded data removed]",
      "text/plain": [
       "<Figure size 328.884x131.554 with 2 Axes>"
      ]
     },
     "metadata": {
      "needs_background": "light"
     },
     "output_type": "display_data"
    }
   ],
   "source": [
    "# two per figure plots\n",
    "fig, (ax1, ax2) = plt.subplots(ncols=2, figsize=(TEXTWIDTH, TEXTWIDTH/2.5))\n",
    "set_figure_params()\n",
    "\n",
    "\n",
    "def exclude_fct(strategy_data):\n",
    "    args = strategy_data['args']\n",
    "    algorithm = strategy_data['algorithm']\n",
    "    if algorithm.startswith('_'):\n",
    "        return True\n",
    "#     if algorithm == 'IDS':\n",
    "#         if args.get('lls_beta') or args['ids_info'] == 'AsymptoticInfoGain':\n",
    "#             return True\n",
    "\n",
    "\n",
    "def exclude_fct_ice(strategy_data):\n",
    "    args = strategy_data['args']\n",
    "    algorithm = strategy_data['algorithm']\n",
    "    if algorithm.startswith('_'):\n",
    "        return True\n",
    "    if algorithm == 'IDS':\n",
    "        if not args.get('lls_beta'):\n",
    "            return True\n",
    "        \n",
    "def exclude_fct_ctx(strategy_data):\n",
    "    args = strategy_data['args']\n",
    "    algorithm = strategy_data['algorithm']\n",
    "    if algorithm.startswith('_'):\n",
    "        return True\n",
    "    if algorithm == 'IDS':\n",
    "        if args.get('lls_beta'):\n",
    "            return True\n",
    "    \n",
    "def style_mod(strategy_data, i):\n",
    "    args = strategy_data['args']\n",
    "    algorithm = strategy_data['algorithm']\n",
    "    styles = style_fct(strategy_data, i)\n",
    "    if args['ids_sampling'] == 'fast':\n",
    "        styles['color'] = COLORS[0]\n",
    "        styles['zorder'] = 10\n",
    "        styles['label'] += f\"-C\"\n",
    "    else:\n",
    "        styles['label'] += f\"-FW({args['ids_fw_steps']})\"\n",
    "        if args['ids_fw_steps'] == 1000:\n",
    "            styles['linestyle'] = '-'\n",
    "    return styles\n",
    "\n",
    " \n",
    "lines = plot_regret(data_context, ax1,  exclude_fct=exclude_fct_ctx, style_fct=style_mod)\n",
    "plot_regret(data_icecream, ax2,  exclude_fct=exclude_fct_ice, style_fct=style_mod)\n",
    "\n",
    "for ax in (ax1, ax2):\n",
    "    ax.set_xlabel('n')\n",
    "ax1.set_title(\"Random Contextual Actions\")\n",
    "ax2.set_title(\"Icecream Example\")\n",
    "ax1.set_ylabel(t_REGRET)\n",
    "\n",
    "handles, labels = ax1.get_legend_handles_labels()\n",
    "handles = permute_list(handles, [1,0,2])\n",
    "labels = permute_list(labels, [1,0,2])\n",
    "\n",
    "\n",
    "lgd = fig.legend(handles,\n",
    "           labels,\n",
    "           loc=('lower center'),   # Position of legend\n",
    "           borderaxespad=0. , \n",
    "           bbox_to_anchor=(0.5,-0.05),# Small spacing around legend box\n",
    "           ncol=4,\n",
    "           fancybox=False,\n",
    "           frameon=False,\n",
    "           columnspacing=1.,\n",
    "          )\n",
    "ax2.annotate(text='', xy=(9500,900), xytext=(7000,400), arrowprops=dict(arrowstyle='->'))\n",
    "ax2.annotate(text='', xy=(9500,1350), xytext=(7000,400), arrowprops=dict(arrowstyle='->'))\n",
    "ax2.text(7000, 180, 'bandit feedback', horizontalalignment='center')\n",
    "\n",
    "ax2.annotate(text='', xy=(7500,1900), xytext=(5000,1800), arrowprops=dict(arrowstyle='->'))\n",
    "ax2.text(4800, 1700, 'survey feedback', horizontalalignment='right')\n",
    "\n",
    "\n",
    "hide_spines(ax1, ax2)\n",
    "# hide_spines( ax1a, left=True, right=False)\n",
    "# fig.subplots_adjust()\n",
    "fig.subplots_adjust(left=0.)\n",
    "\n",
    "# shift_axis(ax1a, -0.03)\n",
    "fig.tight_layout()\n",
    "fig.savefig(os.path.join(PLOTDIR, 'gallery', f\"context.pdf\",), bbox_inches='tight', pad_inches=0.00)"
   ]
  },
  {
   "cell_type": "markdown",
   "metadata": {},
   "source": [
    "## Laser"
   ]
  },
  {
   "cell_type": "code",
   "execution_count": 52,
   "metadata": {},
   "outputs": [
    {
     "name": "stdout",
     "output_type": "stream",
     "text": [
      "Loaded 6 algorithms.\n",
      "Loaded 5 algorithms.\n"
     ]
    }
   ],
   "source": [
    "basedir = '../..'\n",
    "# exp_name = \"runs-thesis/7/icecream_10-10000\"\n",
    "exp_name = \"runs-thesis/7/laser-10000\"\n",
    "env, data_laser, extra_data = load_data(exp_name, basedir=basedir)\n",
    "\n",
    "exp_name = \"runs-thesis/7/laser_indirect-10000\"\n",
    "env, data_laser_indirect, extra_data = load_data(exp_name, basedir=basedir)"
   ]
  },
  {
   "cell_type": "code",
   "execution_count": 53,
   "metadata": {},
   "outputs": [
    {
     "name": "stdout",
     "output_type": "stream",
     "text": [
      "IDS-333bbc54c6e3b831e9ec3cebbda997df\n",
      "IDS-6c4a6879c525c0786da8ada03ff9e93e\n",
      "UCB-ca0bd11fa57a862de7323cd35ae19d1c\n",
      "IDS-583cca02aaf6f4eb422fba70c32e3096\n",
      "IDS-c804cf5b88df80e06784a9066e9170a3\n",
      "UCB-6049df9b1649dd2fc1857a1ce6363b3d\n"
     ]
    },
    {
     "data": {
      "image/png": "[encoded data removed]",
      "text/plain": [
       "<Figure size 328.884x126.494 with 3 Axes>"
      ]
     },
     "metadata": {
      "needs_background": "light"
     },
     "output_type": "display_data"
    }
   ],
   "source": [
    "fig, (ax1, ax2, ax3) = plt.subplots(ncols=3, figsize=(TEXTWIDTH, TEXTWIDTH/2.6))\n",
    "set_figure_params()\n",
    "\n",
    "def make_laser_plot(axis):\n",
    "    def f1(X1, X2):\n",
    "        X1 = 1-X1\n",
    "        return np.exp(-((X1-0.5)**2 + (X2 -0.5)**2))\n",
    "\n",
    "    n = 100\n",
    "    x1 = np.linspace(-1, 1, n)\n",
    "    x2 = np.linspace(-1, 1, n)\n",
    "    X1, X2 = np.meshgrid(x1, x2)\n",
    "    Y = f1(X1,X2)\n",
    "\n",
    "\n",
    "    x1_sub = np.linspace(-0.2, 0.6 , n)\n",
    "    x2_sub = np.linspace(0.0, 0.8, n)\n",
    "    X1_sub, X2_sub = np.meshgrid(x1_sub, x2_sub)\n",
    "    Y_sub = f1(X1_sub,X2_sub)\n",
    "    cmap = 'Oranges'\n",
    "    cs = axis.contourf(X1, X2, Y, levels=100, antialiased=True, alpha=0.5, cmap=cmap)\n",
    "    axis.contourf(X1_sub, X2_sub, Y_sub, alpha=1., levels=100, cmap=cmap)\n",
    "    axis.plot([-0.2, 0.6, 0.6, -0.2, -0.2], [0., 0., 0.8, 0.8, 0], color='k')\n",
    "    axis.annotate(\"\", xy=(0.6, -0.1), xytext=(-0.2, -.1), arrowprops=dict(facecolor='black', lw=1, arrowstyle='<->'))\n",
    "    axis.annotate(\"\", xy=(-0.3, 0.), xytext=(-0.3, .8), arrowprops=dict(facecolor='black', lw=1, arrowstyle='<->'))\n",
    "\n",
    "\n",
    "make_laser_plot(ax1)\n",
    "ax1.set_xlim([-1,1])\n",
    "ax1.set_ylim([-1,1])\n",
    "ax1.set_xticks([-1,-.5, 0, 0.5, 1])\n",
    "ax1.set_yticks([-1,-.5, 0, 0.5, 1])\n",
    "ax1.set_xlabel(r'$x_1$')\n",
    "ax1.set_ylabel(r'$x_2$')\n",
    "ax1.set_title(\"laser alignment\")\n",
    "\n",
    "\n",
    "\n",
    "def exclude_fct(strategy_data):\n",
    "    args = strategy_data['args']\n",
    "    algorithm = strategy_data['algorithm']\n",
    "    if algorithm.startswith('_'):\n",
    "        return True\n",
    "    \n",
    "def style_mod(strategy_data, i):\n",
    "    args = strategy_data['args']\n",
    "    algorithm = strategy_data['algorithm']\n",
    "    styles = style_fct(strategy_data, i)\n",
    "    styles['linestyle'] = '-'\n",
    "    if algorithm == 'UCB':\n",
    "        styles['linestyle'] = '-.'\n",
    "#     if args.get('laser_indirect'):\n",
    "#         styles['linestyle'] = '-.'\n",
    "#     else:\n",
    "#         styles['linestyle'] = '-'\n",
    "#     if args['ids_sampling'] == 'fast':\n",
    "#         styles['color'] = COLORS[0]\n",
    "#         styles['zorder'] = 10\n",
    "#         styles['label'] += f\"-C\"\n",
    "#     else:\n",
    "#         styles['label'] += f\"-FW({args['ids_fw_steps']})\"\n",
    "#         if args['ids_fw_steps'] == 1000:\n",
    "#             styles['linestyle'] = '-'\n",
    "    return styles\n",
    "\n",
    " \n",
    "lines = plot_regret(data_laser, ax2,  exclude_fct=exclude_fct, style_fct=style_mod)\n",
    "lines = plot_regret(data_laser_indirect, ax3,  exclude_fct=exclude_fct, style_fct=style_mod)\n",
    "\n",
    "for ax in (ax2, ax3):\n",
    "    ax.set_xlabel(r'$n$')\n",
    "    ax.set_ylim(0,10000)\n",
    "ax2.set_ylabel(t_REGRET, labelpad=0)\n",
    "hide_spines(ax2, ax3)\n",
    "\n",
    "ax2.get_shared_y_axes().join(ax2, ax3)\n",
    "ax2.set_ylim(0, 1000)\n",
    "ax2.set_title('invasive feedback')\n",
    "ax3.set_title('transductive feedback')\n",
    "ax3.set_yticklabels([])\n",
    "\n",
    "handles, labels = ax2.get_legend_handles_labels()\n",
    "handles = permute_list(handles, [1,0,2])\n",
    "labels = permute_list(labels, [1,0,2])\n",
    "\n",
    "\n",
    "lgd = fig.legend(handles,\n",
    "           labels,\n",
    "           loc=('lower center'),   # Position of legend\n",
    "           borderaxespad=0. , \n",
    "           bbox_to_anchor=(0.5,-0.1),# Small spacing around legend box\n",
    "           ncol=4,\n",
    "           fancybox=False,\n",
    "           frameon=False,\n",
    "           columnspacing=2.5,\n",
    "          )\n",
    "\n",
    "# lgd = fig.legend(lines,     # The line objects\n",
    "#            labels=[l[0].get_label() for l in lines],   # The labels for each line\n",
    "#            loc=('lower center'),   # Position of legend\n",
    "#            borderaxespad=0. , \n",
    "#            bbox_to_anchor=(0.5,-0.3),# Small spacing around legend box\n",
    "#            ncol=4,\n",
    "#            fancybox=False,\n",
    "#            frameon=False,\n",
    "#            columnspacing=1.,\n",
    "#           )\n",
    "fig.tight_layout()\n",
    "fig.subplots_adjust(wspace=0.35, hspace=0)\n",
    "shift_axis(ax2, 0.035)\n",
    "\n",
    "fig.savefig(os.path.join(PLOTDIR, 'gallery', f\"laser.pdf\",), bbox_inches='tight', pad_inches=0.00)"
   ]
  },
  {
   "cell_type": "markdown",
   "metadata": {},
   "source": [
    "## Robust BO"
   ]
  },
  {
   "cell_type": "code",
   "execution_count": 54,
   "metadata": {},
   "outputs": [
    {
     "name": "stdout",
     "output_type": "stream",
     "text": [
      "Loaded 9 algorithms.\n",
      "Loaded 9 algorithms.\n"
     ]
    }
   ],
   "source": [
    "basedir = '../../runs-dueling/'\n",
    "# exp_name = 'simple_bandit_v1.0-1000'\n",
    "# exp_name = 'simple_bandit_v1.0_cNegativeDrift-1000'\n",
    "# exp_name = 'simple_bandit_v1.0_cNegativeRepeat-1000'\n",
    "\n",
    "drift = ['_cAutoCalibration', '_cPeriodicDrift']\n",
    "# drift = '_cNegativeRepeat'\n",
    "# drift = ''\n",
    "\n",
    "experiments = []\n",
    "noise = 'v0.1'\n",
    "# noise = 'v1.0'\n",
    "\n",
    "for d in drift:\n",
    "    experiments.append(f'camelback_{noise}{d}-1000')\n",
    "\n",
    "def sort_fct(data):\n",
    "    strategy_data = data[1]\n",
    "    label = strategy_data['algorithm']\n",
    "    args = strategy_data['args']\n",
    "\n",
    "    if label == 'DuelingIDS' or label == 'DuelingKernelIDS':\n",
    "        if args.get('to_dueling') == 'one':\n",
    "            return 1\n",
    "        else:\n",
    "            return 2\n",
    "    if label == 'SemiparametricTS':\n",
    "        return 4\n",
    "    if label == 'UCB' or label == 'GPUCB':\n",
    "        return 5\n",
    "    if label == 'Bose':\n",
    "        return 3\n",
    "    if label == 'TS':\n",
    "        return 6\n",
    "    \n",
    "    return 10\n",
    "# read all experiments at once:\n",
    "combined_data = []\n",
    "for exp_name in experiments:\n",
    "    combined_data.append(load_data(exp_name, basedir=basedir, sort_fct=sort_fct))\n"
   ]
  },
  {
   "cell_type": "code",
   "execution_count": 55,
   "metadata": {},
   "outputs": [
    {
     "name": "stdout",
     "output_type": "stream",
     "text": [
      "DuelingKernelIDS-37bd08bdcb4176e992e879d675cc6ce3\n",
      "DuelingKernelIDS-760bf505035dc8f6107fd09c98342b53\n",
      "GPUCB-e5184c1a304231a97112f2f302bed7a8\n",
      "DuelingKernelIDS-d89d56bac34072d51e8b540cf399dc25\n",
      "DuelingKernelIDS-fbee9c5b0bcf9f1a79cbf8a206b5e5ce\n",
      "GPUCB-e30f96cc95089062d578d116147a4cf0\n"
     ]
    },
    {
     "name": "stderr",
     "output_type": "stream",
     "text": [
      "<ipython-input-55-b504114d4d35>:57: UserWarning: You have mixed positional and keyword arguments, some input may be discarded.\n",
      "  lgd = fig.legend(lines,     # The line objects\n"
     ]
    },
    {
     "data": {
      "image/png": "[encoded data removed]",
      "text/plain": [
       "<Figure size 328.884x131.554 with 2 Axes>"
      ]
     },
     "metadata": {
      "needs_background": "light"
     },
     "output_type": "display_data"
    }
   ],
   "source": [
    "# 2 x 2 ploth\n",
    "fig, axes = plt.subplots(ncols=2, figsize=(TEXTWIDTH, TEXTWIDTH/2.5))\n",
    "\n",
    "set_figure_params()\n",
    "\n",
    "def style_mod(strategy_data, i):\n",
    "    args = strategy_data['args']\n",
    "    algorithm = strategy_data['algorithm']\n",
    "    styles = style_fct(strategy_data, i)\n",
    "    if algorithm == 'UCB':\n",
    "        styles['label'] = t_GPUCB\n",
    "    elif args.get('to_dueling') == 'one':\n",
    "        styles['label'] =  r'\\textsc{IDS-1P}'\n",
    "        styles['color'] = COLORS[0]\n",
    "    elif args.get('to_dueling') == 'two':\n",
    "        styles['label'] = r'\\textsc{IDS-2P}'\n",
    "    return styles\n",
    "\n",
    "\n",
    "def exclude_fct(strategy_data):\n",
    "    \"\"\" exclude specific runs from plotting \"\"\"\n",
    "    args = strategy_data['args']\n",
    "    algorithm = strategy_data['algorithm']\n",
    "    if algorithm.startswith('_'):\n",
    "        return True\n",
    "    if algorithm == 'TS':\n",
    "        return True\n",
    "    if args.get('beta') != 1.:\n",
    "        return True\n",
    "    return False\n",
    "\n",
    "props = {\n",
    "    f'camelback_{noise}_cPeriodicDrift': dict(\n",
    "        title=\"Periodic Drift\",\n",
    "        ylim=400,\n",
    "        ylabel=''\n",
    "    ),\n",
    "    f'camelback_{noise}_cAutoCalibration' : dict(\n",
    "        title=\"Auto-Calibration\",\n",
    "        ylim=400,\n",
    "        ylabel='Regret'\n",
    "    ),\n",
    "}\n",
    "first = True\n",
    "for ax, (env, data, _) in zip(axes, combined_data):\n",
    "    hide_spines(ax)\n",
    "    ax.set_title(props[env]['title'])\n",
    "    \n",
    "    ax.set_xlabel(r'$n$')\n",
    "    ax.set_xlim(1,1000)\n",
    "    ax.set_ylim(0, props[env]['ylim'])\n",
    "    lines = plot_regret(data, ax, exclude_fct=exclude_fct, style_fct=style_mod, scale_fct=scale_fct)\n",
    "\n",
    "axes[0].set_ylabel(t_REGRET)\n",
    "\n",
    "# add legend\n",
    "lgd = fig.legend(lines,     # The line objects\n",
    "           labels=[l[0].get_label() for l in lines],   # The labels for each line\n",
    "           loc=('lower center'),   # Position of legend\n",
    "           borderaxespad=0. , \n",
    "           bbox_to_anchor=(0.5,-0.1),# Small spacing around legend box\n",
    "           ncol=3,\n",
    "           fancybox=False,\n",
    "           frameon=False,\n",
    "           columnspacing=2.5,\n",
    "          )\n",
    "\n",
    "textargs = dict(\n",
    "    horizontalalignment='center',\n",
    "    verticalalignment='center',\n",
    "    fontsize=10\n",
    ")\n",
    "# fig.text(0.5, 0.5, 'End of Optimism', **textargs)\n",
    "# fig.text(0.5, 1., 'Random Examples', **textargs)\n",
    "\n",
    "\n",
    "fig.tight_layout()\n",
    "# fig.subplots_adjust()\n",
    "fig.subplots_adjust(wspace=0.35, hspace=0.5)\n",
    "fig.savefig(os.path.join(PLOTDIR, 'gallery', f\"robust-kernel.pdf\",), bbox_inches='tight', pad_inches=0.00)"
   ]
  },
  {
   "cell_type": "code",
   "execution_count": 56,
   "metadata": {},
   "outputs": [
    {
     "name": "stdout",
     "output_type": "stream",
     "text": [
      "Loaded 7 algorithms.\n",
      "Loaded 7 algorithms.\n",
      "Loaded 7 algorithms.\n"
     ]
    }
   ],
   "source": [
    "basedir = '../../runs-dueling/'\n",
    "# exp_name = 'simple_bandit_v1.0-1000'\n",
    "# exp_name = 'simple_bandit_v1.0_cNegativeDrift-1000'\n",
    "# exp_name = 'simple_bandit_v1.0_cNegativeRepeat-1000'\n",
    "\n",
    "drift = ['', '_cNegativeRepeat', '_cNegativeDrift', '_cNegativeDrift_compensate']\n",
    "drift = ['', '_cNegativeRepeat', '_cNegativeDrift_compensate']\n",
    "\n",
    "# drift = '_cNegativeRepeat'\n",
    "# drift = ''\n",
    "\n",
    "experiments = []\n",
    "for d in drift:\n",
    "    experiments.append(f'simple_bandit_d4_k20_v1.0{d}-10000')\n",
    "\n",
    "def sort_fct(data):\n",
    "    strategy_data = data[1]\n",
    "    label = strategy_data['algorithm']\n",
    "    args = strategy_data['args']\n",
    "\n",
    "    if label == 'DuelingIDS' or label == 'DuelingKernelIDS':\n",
    "        if args.get('to_dueling') == 'one':\n",
    "            return 1\n",
    "        else:\n",
    "            return 2\n",
    "    if label == 'SemiparametricTS':\n",
    "        return 4\n",
    "    if label == 'UCB' or label == 'GPUCB':\n",
    "        return 5\n",
    "    if label == 'Bose':\n",
    "        return 3\n",
    "    if label == 'TS':\n",
    "        return 6\n",
    "    \n",
    "    return 10\n",
    "\n",
    "# read all experiments at once:\n",
    "combined_data = []\n",
    "for exp_name in experiments:\n",
    "    combined_data.append(load_data(exp_name, basedir=basedir, sort_fct=sort_fct))"
   ]
  },
  {
   "cell_type": "code",
   "execution_count": 57,
   "metadata": {},
   "outputs": [
    {
     "name": "stdout",
     "output_type": "stream",
     "text": [
      "DuelingIDS-5dd1ac7e23aae139f25b50afb7054502\n",
      "DuelingIDS-d8b4d9f9789df55fb329f070846a3cc8\n",
      "Bose-74858d421b718c96ffbd0ed6c3e1ed0c\n",
      "SemiparametricTS-b2988d02481369b9a9895f285c8b7026\n",
      "UCB-74cb0562c4d913ae76303d6fe6213c86\n",
      "DuelingIDS-bed5cba5d80b2416e48e10cc0886df36\n",
      "DuelingIDS-746e2995276815cc4726cd55069de878\n",
      "Bose-8ad1d02ae39edf61da809ac52837c4ac\n",
      "SemiparametricTS-7bd7af666f8e0834945ad2acac022208\n",
      "UCB-a8cc70ad51f6b3f6a864dc06c33d96a8\n",
      "DuelingIDS-bee0e7bb08ec1454622dfc5099046dfc\n",
      "DuelingIDS-8504b01ec199c51e717f4aa6b9b6189e\n",
      "Bose-71fdda17012225d7abfa01c5de46318d\n",
      "SemiparametricTS-81c1261ab13bc97915a7587e1bdd9951\n",
      "UCB-dcb8e51687da98cfb1b7e8db5d44a93f\n"
     ]
    },
    {
     "name": "stderr",
     "output_type": "stream",
     "text": [
      "<ipython-input-57-5057fed2503b>:83: UserWarning: You have mixed positional and keyword arguments, some input may be discarded.\n",
      "  lgd = fig.legend(lines,     # The line objects\n"
     ]
    },
    {
     "data": {
      "image/png": "[encoded data removed]",
      "text/plain": [
       "<Figure size 328.884x117.458 with 3 Axes>"
      ]
     },
     "metadata": {
      "needs_background": "light"
     },
     "output_type": "display_data"
    }
   ],
   "source": [
    "fig, axes = plt.subplots(ncols=3, nrows=1,figsize=(TEXTWIDTH, TEXTWIDTH/2.8))\n",
    "## uncomment this line to transpose the plot:\n",
    "# axes = list(map(list, zip(*axes))) # transpose axes array\n",
    "# axes_flat = [a for aa in axes for a in aa]\n",
    "\n",
    "\n",
    "def exclude_fct(strategy_data):\n",
    "    \"\"\" exclude specific runs from plotting \"\"\"\n",
    "    args = strategy_data['args']\n",
    "    algorithm = strategy_data['algorithm']\n",
    "    if algorithm.startswith('_'):\n",
    "        return True\n",
    "    if algorithm ==  'TS':\n",
    "        return True\n",
    "    return False\n",
    "\n",
    "def style_mod(strategy_data, i):\n",
    "    args = strategy_data['args']\n",
    "    algorithm = strategy_data['algorithm']\n",
    "    styles = style_fct(strategy_data, i)\n",
    "#     if algorithm == 'UCB':\n",
    "#         styles['label'] = t_GPUCB\n",
    "    if args.get('to_dueling') == 'one':\n",
    "        styles['label'] = r'\\textsc{IDS-1P}'\n",
    "        styles['color'] = COLORS[0]\n",
    "    elif args.get('to_dueling') == 'two':\n",
    "        styles['label'] =  r'\\textsc{IDS-2P}'\n",
    "    return styles\n",
    "\n",
    "\n",
    "\n",
    "# some generic figure improvements\n",
    "set_figure_params()\n",
    "\n",
    "props = {\n",
    "    'simple_bandit_d4_k20_v1.0': dict(\n",
    "        title=\"No Bias\",\n",
    "        ylim=1500,\n",
    "        ylabel=t_REGRET,\n",
    "    ),\n",
    "    'simple_bandit_d4_k20_v1.0_cNegativeRepeat' : dict(\n",
    "        title=\"Negative Repeat\",\n",
    "        ylim=1500,\n",
    "        ylabel=''\n",
    "    ),\n",
    "#    'simple_bandit_d4_k20_v1.0_cNegativeDrift': dict(\n",
    "#         title=\"Drift\",\n",
    "#        ylim = 1000,\n",
    "#        ylabel='Regret'\n",
    "#    ),\n",
    "    'simple_bandit_d4_k20_v1.0_cNegativeDrift_compensate': dict(\n",
    "    title =\"Compensated Drift\",\n",
    "        ylim=1500,\n",
    "        ylabel=''\n",
    "    )\n",
    "}\n",
    "first = True\n",
    "for ax, (env, data, _) in zip(axes, combined_data):\n",
    "    hide_spines(ax)\n",
    "    ax.set_title(props[env]['title'])\n",
    "    ax.set_ylabel(props[env]['ylabel'])\n",
    "    \n",
    "\n",
    "    ax.set_xlim(1,10000)\n",
    "    ax.set_xlabel('$n$')\n",
    "    ax.set_ylim(0, props[env]['ylim'])\n",
    "    lines = plot_regret(data, ax, exclude_fct=exclude_fct, style_fct=style_mod, scale_fct=scale_fct)\n",
    "#     ax.legend()\n",
    "#     yl1, yl2 = props[env]['ylims']\n",
    "#     if yl1 is not None:\n",
    "#         ax1.set_ylim(*yl1)\n",
    "    \n",
    "#     # second plot (lines is used for the legend)\n",
    "#     ax2.set_xscale('log')\n",
    "#     lines = plot_regret(data, ax2, exclude=exclude_fct, label_fct=label_fct, line_fct=line_fct, color_fct=color_fct, n0=int(xl2[0]))\n",
    "#     ax2.set_xlim(*xl2)\n",
    "#     if yl2 is not None:\n",
    "#         ax2.set_ylim(*yl2)\n",
    "\n",
    "for ax in axes[1:]:\n",
    "    ax.set_yticklabels([])\n",
    "# add legend\n",
    "lgd = fig.legend(lines,     # The line objects\n",
    "           labels=[l[0].get_label() for l in lines],   # The labels for each line\n",
    "           loc=('lower center'),   # Position of legend\n",
    "           borderaxespad=0. , \n",
    "           bbox_to_anchor=(0.5,-0.1),# Small spacing around legend box\n",
    "           ncol=5,\n",
    "           fancybox=False,\n",
    "           frameon=False,\n",
    "           columnspacing=1.5,\n",
    "          )\n",
    "\n",
    "textargs = dict(\n",
    "    horizontalalignment='center',\n",
    "    verticalalignment='center',\n",
    "    fontsize=10\n",
    ")\n",
    "# fig.text(0.5, 0.5, 'End of Optimism', **textargs)\n",
    "# fig.text(0.5, 1., 'Random Examples', **textargs)\n",
    "\n",
    "fig.tight_layout()\n",
    "# fig.subplots_adjust()\n",
    "fig.subplots_adjust(wspace=0.25, hspace=0.4)\n",
    "\n",
    "fig.savefig(os.path.join(PLOTDIR, 'gallery', f\"robust-linear.pdf\",), bbox_inches='tight', pad_inches=0.00)"
   ]
  },
  {
   "cell_type": "code",
   "execution_count": null,
   "metadata": {},
   "outputs": [],
   "source": []
  },
  {
   "cell_type": "code",
   "execution_count": null,
   "metadata": {},
   "outputs": [],
   "source": []
  },
  {
   "cell_type": "code",
   "execution_count": null,
   "metadata": {},
   "outputs": [],
   "source": []
  }
 ],
 "metadata": {
  "kernelspec": {
   "display_name": "Python 3",
   "language": "python",
   "name": "python3"
  },
  "language_info": {
   "codemirror_mode": {
    "name": "ipython",
    "version": 3
   },
   "file_extension": ".py",
   "mimetype": "text/x-python",
   "name": "python",
   "nbconvert_exporter": "python",
   "pygments_lexer": "ipython3",
   "version": "3.9.5"
  }
 },
 "nbformat": 4,
 "nbformat_minor": 4
}
