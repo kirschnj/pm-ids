{
 "cells": [
  {
   "cell_type": "code",
   "execution_count": 1,
   "metadata": {},
   "outputs": [],
   "source": [
    "import numpy as np\n",
    "import matplotlib.pyplot as plt"
   ]
  },
  {
   "cell_type": "code",
   "execution_count": 201,
   "metadata": {},
   "outputs": [],
   "source": [
    "def Psi(delta1, delta2, g1,g2):\n",
    "    if delta1 == delta2: # same regret, prefer more information\n",
    "        alpha = g1 > g2\n",
    "    elif delta1 == 0: # no regret on action 1\n",
    "        alpha = 1\n",
    "    elif delta2 == 0: # no regret on action 2\n",
    "        alpha = 0\n",
    "    elif g1 != g2: # not the same info gain\n",
    "        alpha = (delta2 * (g1 + g2) - 2 * delta1 * g2) / ((delta1 - delta2) * (g1 - g2))\n",
    "        alpha = max(0, min(alpha, 1))\n",
    "        # if alpha is not in [0,1], take smaller ratio of either 1 or 2\n",
    "        # if alpha < 0 or alpha > 1:\n",
    "        #     alpha = Delta_1**2/g_1 < Delta_2**2/g_2\n",
    "    elif g1 == g2: # same info gain, prefer smaller regret\n",
    "        alpha = delta1 < delta2\n",
    "    else:\n",
    "        raise Exception(\"Uncovered Case!\")\n",
    "    \n",
    "    psi = (alpha*delta1 + (1-alpha)*delta2)**2/(alpha*g1 + (1-alpha)*g2)\n",
    "    r = alpha*delta1 + (1-alpha)*delta2\n",
    "    print(alpha, delta1,  delta2,r)\n",
    "    return psi, alpha, r"
   ]
  },
  {
   "cell_type": "code",
   "execution_count": 206,
   "metadata": {},
   "outputs": [],
   "source": [
    "def compute_psi(eps, n):\n",
    "    \n",
    "    alpha = 1\n",
    "    d1 = 1*alpha*eps\n",
    "    d2 = d1\n",
    "    d3 = 1.\n",
    "    \n",
    "    g1 = 1/(n-np.log(n))\n",
    "    g2 = (1-eps)**2/(n-np.log(n)) + (alpha*eps)**2/np.log(n)\n",
    "    g3 = 1/np.log(n)\n",
    "    \n",
    "    psi12, alpha12, r12 = Psi(d1,d2,g1,g2)\n",
    "    psi13, alpha13, r13 = Psi(d1,d3,g1,g3)\n",
    "    psi23, alpha23, r23 = Psi(d2,d3,g2,g3)\n",
    "        \n",
    "    return [psi12,psi13,psi23], [alpha12,alpha13,alpha23], [r12, r13, r23]\n",
    "    "
   ]
  },
  {
   "cell_type": "code",
   "execution_count": 207,
   "metadata": {},
   "outputs": [
    {
     "name": "stderr",
     "output_type": "stream",
     "text": [
      "No handles with labels found to put in legend.\n"
     ]
    },
    {
     "name": "stdout",
     "output_type": "stream",
     "text": [
      "False 0.0001 0.0001 0.0001\n",
      "0.9998999905055685 0.0001 1.0 0.0001999994934820091\n",
      "0.9999000105054673 0.0001 1.0 0.00019997949558326185\n",
      "([24.702875940714893, 0.010130335618243853, 0.010129322789833067], [False, 0.9998999905055685, 0.9999000105054673], [0.0001, 0.0001999994934820091, 0.00019997949558326185])\n",
      "-1.0128284107860375e-06\n"
     ]
    }
   ],
   "source": [
    "# eps = np.arange(1,10)\n",
    "# eps = np.power(1/2, eps)\n",
    "n = 10e10\n",
    "\n",
    "psi12 = []\n",
    "psi13 = []\n",
    "psi23 = []\n",
    "\n",
    "psidiff = []\n",
    "\n",
    "N = np.arange(1,50)\n",
    "N = np.power(2,N)\n",
    "eps = 0.001\n",
    "\n",
    "\n",
    "\n",
    "# for n in N:\n",
    "#     psi_all,_,_ = compute_psi(eps,n)\n",
    "#     psi12.append(psi_all[0])\n",
    "#     psi13.append(psi_all[1])\n",
    "#     psi23.append(psi_all[2])\n",
    "    \n",
    "#     psidiff.append(psi_all[2]-psi_all[1])\n",
    "\n",
    "# plt.figure()\n",
    "# axis = plt.gca()\n",
    "\n",
    "# axis.loglog(eps, psi12, label=f\"Psi_12; n={n}\")\n",
    "# axis.loglog(eps, psi13, label=f\"Psi_13; n={n}\")\n",
    "# axis.loglog(eps, psi23, label=f\"Psi_23; n={n}\")\n",
    "\n",
    "# axis.semilogx(N, psidiff)\n",
    "axis.legend()\n",
    "psi_all = compute_psi(0.0001, 10e10)\n",
    "print(psi_all)\n",
    "print(psi_all[0][2]-psi_all[0][1])"
   ]
  },
  {
   "cell_type": "code",
   "execution_count": null,
   "metadata": {},
   "outputs": [],
   "source": []
  },
  {
   "cell_type": "code",
   "execution_count": 33,
   "metadata": {},
   "outputs": [
    {
     "ename": "ValueError",
     "evalue": "p > 1",
     "output_type": "error",
     "traceback": [
      "\u001b[0;31m---------------------------------------------------------------------------\u001b[0m",
      "\u001b[0;31mValueError\u001b[0m                                Traceback (most recent call last)",
      "\u001b[0;32m<ipython-input-33-43f041a4b3e7>\u001b[0m in \u001b[0;36m<module>\u001b[0;34m\u001b[0m\n\u001b[1;32m     24\u001b[0m \u001b[0;34m\u001b[0m\u001b[0m\n\u001b[1;32m     25\u001b[0m \u001b[0;34m\u001b[0m\u001b[0m\n\u001b[0;32m---> 26\u001b[0;31m \u001b[0mrun\u001b[0m\u001b[0;34m(\u001b[0m\u001b[0;36m100\u001b[0m\u001b[0;34m)\u001b[0m\u001b[0;34m\u001b[0m\u001b[0;34m\u001b[0m\u001b[0m\n\u001b[0m",
      "\u001b[0;32m<ipython-input-33-43f041a4b3e7>\u001b[0m in \u001b[0;36mrun\u001b[0;34m(c)\u001b[0m\n\u001b[1;32m     11\u001b[0m         \u001b[0mT_sum\u001b[0m \u001b[0;34m+=\u001b[0m \u001b[0;36m1\u001b[0m\u001b[0;34m/\u001b[0m\u001b[0mT\u001b[0m\u001b[0;34m\u001b[0m\u001b[0;34m\u001b[0m\u001b[0m\n\u001b[1;32m     12\u001b[0m         \u001b[0mn\u001b[0m \u001b[0;34m+=\u001b[0m \u001b[0;36m1\u001b[0m\u001b[0;34m\u001b[0m\u001b[0;34m\u001b[0m\u001b[0m\n\u001b[0;32m---> 13\u001b[0;31m         \u001b[0mT\u001b[0m \u001b[0;34m+=\u001b[0m \u001b[0mnp\u001b[0m\u001b[0;34m.\u001b[0m\u001b[0mrandom\u001b[0m\u001b[0;34m.\u001b[0m\u001b[0mbinomial\u001b[0m\u001b[0;34m(\u001b[0m\u001b[0;36m1\u001b[0m\u001b[0;34m,\u001b[0m \u001b[0mp\u001b[0m\u001b[0;34m=\u001b[0m\u001b[0mc\u001b[0m\u001b[0;34m/\u001b[0m\u001b[0mT\u001b[0m\u001b[0;34m)\u001b[0m\u001b[0;34m\u001b[0m\u001b[0;34m\u001b[0m\u001b[0m\n\u001b[0m\u001b[1;32m     14\u001b[0m \u001b[0;34m\u001b[0m\u001b[0m\n\u001b[1;32m     15\u001b[0m         \u001b[0mprint\u001b[0m\u001b[0;34m(\u001b[0m\u001b[0mT\u001b[0m\u001b[0;34m)\u001b[0m\u001b[0;34m\u001b[0m\u001b[0;34m\u001b[0m\u001b[0m\n",
      "\u001b[0;32mmtrand.pyx\u001b[0m in \u001b[0;36mmtrand.RandomState.binomial\u001b[0;34m()\u001b[0m\n",
      "\u001b[0;31mValueError\u001b[0m: p > 1"
     ]
    }
   ],
   "source": [
    "n = 10000\n",
    "\n",
    "\n",
    "def run(Delta, n):\n",
    "    t = 1\n",
    "    \n",
    "    \n",
    "        \n",
    "    return T_sum\n",
    "\n",
    "# res = []\n",
    "# for i in range(100):\n",
    "#     res.append(run(0.1))\n",
    "\n",
    "# res = np.mean(res)\n",
    "    \n",
    "\n",
    "run(100)"
   ]
  },
  {
   "cell_type": "code",
   "execution_count": 26,
   "metadata": {},
   "outputs": [
    {
     "data": {
      "text/plain": [
       "1"
      ]
     },
     "execution_count": 26,
     "metadata": {},
     "output_type": "execute_result"
    }
   ],
   "source": [
    "np.random.binomial(1, 1)"
   ]
  },
  {
   "cell_type": "code",
   "execution_count": 13,
   "metadata": {},
   "outputs": [
    {
     "data": {
      "text/plain": [
       "array([     0.        ,   1201.54090373,   3027.69335385,   5198.76555635,\n",
       "         7629.30917828,  10273.03022167,  13100.06831583,  16089.25543491,\n",
       "        19224.65445975,  22493.75216934,  25886.41404497,  29394.23352701,\n",
       "        33010.10365236,  36727.92247365,  40542.38319915,  44448.82026887,\n",
       "        48443.09366158,  52521.50010531,  56680.70369853,  60917.6808421 ,\n",
       "        65229.67592311,  69614.16521269,  74068.8271324 ,  78591.51752463,\n",
       "        83180.24890164,  87833.17289268,  92548.56528693,  97324.81320248,\n",
       "       102160.40401104, 107053.91572348, 112004.00859949, 117009.41778948,\n",
       "       122068.94685252, 127181.46202152, 132345.88710948, 137561.19896816,\n",
       "       142826.42342526, 148140.63163758, 153502.93680747, 158912.49121774,\n",
       "       164368.4835467 , 169870.13643054, 175416.70424465, 181007.47107957,\n",
       "       186641.74889028, 192318.87580035, 198038.21454493, 203799.15103823,\n",
       "       209601.09305335, 215443.46900319])"
      ]
     },
     "execution_count": 13,
     "metadata": {},
     "output_type": "execute_result"
    }
   ],
   "source": []
  },
  {
   "cell_type": "code",
   "execution_count": null,
   "metadata": {},
   "outputs": [],
   "source": []
  }
 ],
 "metadata": {
  "kernelspec": {
   "display_name": "Python 3",
   "language": "python",
   "name": "python3"
  },
  "language_info": {
   "codemirror_mode": {
    "name": "ipython",
    "version": 3
   },
   "file_extension": ".py",
   "mimetype": "text/x-python",
   "name": "python",
   "nbconvert_exporter": "python",
   "pygments_lexer": "ipython3",
   "version": "3.6.10"
  }
 },
 "nbformat": 4,
 "nbformat_minor": 4
}
