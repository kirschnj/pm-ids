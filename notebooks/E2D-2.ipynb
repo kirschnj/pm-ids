{
 "cells": [
  {
   "cell_type": "code",
   "execution_count": 67,
   "id": "348e70b3",
   "metadata": {},
   "outputs": [],
   "source": [
    "import numpy as np\n",
    "import matplotlib.pyplot as plt\n",
    "from tqdm.notebook import tqdm"
   ]
  },
  {
   "cell_type": "code",
   "execution_count": 57,
   "id": "9bd53d8e",
   "metadata": {},
   "outputs": [],
   "source": [
    "def create_instance(K,d):\n",
    "    X = np.random.normal(size=(K,d))\n",
    "    theta_star = np.random.normal(size=d)\n",
    "    optimal_arm = np.argmax(X @ theta_star)\n",
    "    return X, theta_star, optimal_arm\n",
    "\n",
    "def regret(arms,optimal_arm,X,theta_star):\n",
    "    reg = [0]\n",
    "    opt = np.inner(X[optimal_arm],theta_star)\n",
    "    for i in range(len(arms)):\n",
    "        arm = arms[i]\n",
    "        reg.append(reg[i]+opt-np.inner(X[arm],theta_star))\n",
    "    return reg"
   ]
  },
  {
   "cell_type": "code",
   "execution_count": 292,
   "id": "8fe92944",
   "metadata": {},
   "outputs": [],
   "source": [
    "class E2D():\n",
    "    def __init__(self,X,theta_star,T,sigma,gamma):\n",
    "        self.X = X\n",
    "        self.C = 1.01\n",
    "        self.theta_star = theta_star\n",
    "        self.T = T\n",
    "        self.sigma = sigma\n",
    "        self.gamma = gamma\n",
    "        self.d = len(theta_star)\n",
    "        self.K = X.shape[0]\n",
    "        self.zeros = np.zeros(self.d)\n",
    "        self.V = np.identity(self.d)\n",
    "        self.theta = self.zeros\n",
    "        self.w = self.zeros\n",
    "        self.mu = np.ones(self.K)/self.K\n",
    "        self.I = np.identity(self.K)\n",
    "    \n",
    "    def reward_function(self,a):\n",
    "        return np.inner(self.X[a],self.theta_star) + self.sigma*np.random.normal()\n",
    "        \n",
    "    \n",
    "    def update_params(self,a,r):\n",
    "        self.V = self.V + np.outer(self.X[a],self.X[a])\n",
    "        self.w = self.w + r*self.X[a]\n",
    "        self.theta = np.dot(np.linalg.inv(self.V),self.w)\n",
    "    \n",
    "    def act(self):\n",
    "        return np.random.choice(range(self.K),p=self.mu)\n",
    "    \n",
    "    def get_weighted(self):\n",
    "        phi_mu = np.zeros(d)\n",
    "        V_mu = np.zeros((d,d))\n",
    "        for a in range(self.K):\n",
    "            x = self.X[a]\n",
    "            V_mu += self.mu[a]*np.outer(x,x)\n",
    "            phi_mu += self.mu[a]*x\n",
    "        return V_mu,phi_mu\n",
    "    \n",
    "    def get_theta_0(self,V_mu,phi_mu):\n",
    "        theta_0 = np.zeros((self.K,self.d))\n",
    "        V_inv = np.linalg.inv(V_mu)\n",
    "        for a in range(self.K):\n",
    "            theta_0[a] = 1/(2*self.gamma)*np.dot(V_inv,(self.X[a]-phi_mu)) + self.theta\n",
    "        return theta_0\n",
    "    \n",
    "    def norm(self,vec,Matrix):\n",
    "        return np.sqrt(np.inner(np.dot(vec,Matrix),vec))\n",
    "    \n",
    "    def g(self,V_mu,phi_mu,theta,a):\n",
    "        return np.inner(self.theta, self.X[a] - phi_mu) + 1/(4*self.gamma) \\\n",
    "                * (self.norm(self.X[a]-phi_mu,np.linalg.inv(V_mu))**2)\n",
    "        #return np.inner(theta,self.X[a]-phi_mu) + self.gamma*self.norm(self.theta-theta,V_mu)**2\n",
    "    \n",
    "    def G(self,theta_0,b,a):\n",
    "        #print(theta_0)\n",
    "        gap = np.inner(theta_0,self.X[b]) - np.inner(theta_0,self.X[a])\n",
    "        KL = np.inner(theta_0-self.theta,self.X[a])**2\n",
    "        return gap - self.gamma*KL\n",
    "        \n",
    "    \n",
    "    def update_mu(self):\n",
    "        for t in range(1,1000):\n",
    "            V_mu,phi_mu = self.get_weighted()\n",
    "            theta_0 = self.get_theta_0(V_mu,phi_mu)\n",
    "            values = np.zeros(self.K)\n",
    "            for a in range(self.K):\n",
    "                values[a] = self.g(V_mu,phi_mu,theta_0[a],a)\n",
    "            b = np.argmax(values)\n",
    "\n",
    "            values2 = np.zeros(self.K)\n",
    "            for a in range(self.K):\n",
    "                values2[a] = self.G(theta_0[b],b,a)\n",
    "            a_ = np.argmin(values2)\n",
    "            self.mu = (1 - 1/(t+2))*self.mu + 1/(t+2)*self.I[a_]\n",
    "            #print(theta_0)\n",
    "        \n",
    "    \n",
    "    \n",
    "    def run(self):\n",
    "        arms = []\n",
    "        tau = -999\n",
    "        for t in tqdm(range(self.T)):\n",
    "            if np.linalg.det(self.V) >= (1+self.C)*tau:\n",
    "                self.update_mu()\n",
    "                tau = np.linalg.det(self.V)\n",
    "            a = int(self.act())\n",
    "            r = self.reward_function(a)\n",
    "            arms.append(a)\n",
    "            self.update_params(a,r)\n",
    "        return arms\n",
    "    \n",
    "    "
   ]
  },
  {
   "cell_type": "code",
   "execution_count": 293,
   "id": "f400a262",
   "metadata": {},
   "outputs": [],
   "source": [
    "K = 200\n",
    "d = 3\n",
    "sigma = 0.1\n",
    "X,theta_star,optimal_arm = create_instance(K,d)\n",
    "T = 2000\n"
   ]
  },
  {
   "cell_type": "code",
   "execution_count": 294,
   "id": "bb9125af",
   "metadata": {},
   "outputs": [
    {
     "data": {
      "application/vnd.jupyter.widget-view+json": {
       "model_id": "d7308b6419d24dfc962330d65c16dda8",
       "version_major": 2,
       "version_minor": 0
      },
      "text/plain": [
       "  0%|          | 0/2000 [00:00<?, ?it/s]"
      ]
     },
     "metadata": {},
     "output_type": "display_data"
    }
   ],
   "source": [
    "gamma = np.sqrt(T)\n",
    "agent = E2D(X,theta_star,T,sigma,gamma)\n",
    "arms=agent.run()"
   ]
  },
  {
   "cell_type": "code",
   "execution_count": 295,
   "id": "44be3193",
   "metadata": {},
   "outputs": [],
   "source": [
    "reg = regret(arms,optimal_arm,X,theta_star)"
   ]
  },
  {
   "cell_type": "code",
   "execution_count": 296,
   "id": "e2dca24e",
   "metadata": {},
   "outputs": [
    {
     "data": {
      "text/plain": [
       "<matplotlib.legend.Legend at 0x7f7bb0538b50>"
      ]
     },
     "execution_count": 296,
     "metadata": {},
     "output_type": "execute_result"
    },
    {
     "data": {
      "image/png": "[encoded data removed]",
      "text/plain": [
       "<Figure size 640x480 with 1 Axes>"
      ]
     },
     "metadata": {},
     "output_type": "display_data"
    }
   ],
   "source": [
    "plt.plot(reg,label='reg')\n",
    "plt.plot(d*np.sqrt(range(T)),label='d*sqrt(T)')\n",
    "plt.legend()"
   ]
  },
  {
   "cell_type": "code",
   "execution_count": 267,
   "id": "05f65753",
   "metadata": {},
   "outputs": [
    {
     "data": {
      "text/plain": [
       "array([ 1.27259288, -0.70071435,  0.57203683])"
      ]
     },
     "execution_count": 267,
     "metadata": {},
     "output_type": "execute_result"
    }
   ],
   "source": [
    "agent.theta"
   ]
  },
  {
   "cell_type": "code",
   "execution_count": 180,
   "id": "9b3887c4",
   "metadata": {},
   "outputs": [
    {
     "data": {
      "text/plain": [
       "array([ 0.20236926, -0.29225392,  0.11778417])"
      ]
     },
     "execution_count": 180,
     "metadata": {},
     "output_type": "execute_result"
    }
   ],
   "source": [
    "theta_star"
   ]
  },
  {
   "cell_type": "code",
   "execution_count": 178,
   "id": "8b51fb13",
   "metadata": {},
   "outputs": [
    {
     "data": {
      "text/plain": [
       "array([9.90098058e-05, 9.90099019e-03, 9.10000000e-01, 8.00000000e-02,\n",
       "       0.00000000e+00])"
      ]
     },
     "execution_count": 178,
     "metadata": {},
     "output_type": "execute_result"
    }
   ],
   "source": []
  },
  {
   "cell_type": "code",
   "execution_count": null,
   "id": "2461d5a8",
   "metadata": {},
   "outputs": [],
   "source": []
  }
 ],
 "metadata": {
  "kernelspec": {
   "display_name": "Python 3",
   "language": "python",
   "name": "python3"
  },
  "language_info": {
   "codemirror_mode": {
    "name": "ipython",
    "version": 3
   },
   "file_extension": ".py",
   "mimetype": "text/x-python",
   "name": "python",
   "nbconvert_exporter": "python",
   "pygments_lexer": "ipython3",
   "version": "3.9.5"
  }
 },
 "nbformat": 4,
 "nbformat_minor": 5
}
